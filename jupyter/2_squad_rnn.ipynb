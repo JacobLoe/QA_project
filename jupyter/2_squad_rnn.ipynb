{
 "cells": [
  {
   "cell_type": "code",
   "execution_count": 1,
   "metadata": {},
   "outputs": [
    {
     "name": "stderr",
     "output_type": "stream",
     "text": [
      "Using TensorFlow backend.\n"
     ]
    }
   ],
   "source": [
    "# on server: 'screen' ,then start script\n",
    "# use 'strg+a d' to return to terminal\n",
    "# use 'screen -r' to return to screen\n",
    "\n",
    "import numpy as np\n",
    "import json\n",
    "import os\n",
    "\n",
    "from keras.utils.data_utils import get_file\n",
    "from keras.layers.embeddings import Embedding\n",
    "from keras import layers\n",
    "from keras.layers import recurrent\n",
    "from keras.models import Model\n",
    "from keras.preprocessing.sequence import pad_sequences\n",
    "from keras.preprocessing.text import Tokenizer\n",
    "from keras.preprocessing.text import text_to_word_sequence\n",
    "from keras.layers import Input,Dense,LSTM,GRU\n",
    "from keras.layers import Bidirectional\n",
    "from keras.utils import plot_model\n",
    "# os.environ['CUDA_VISIBLE_DEVICES']='0'\n",
    "\n",
    "import re"
   ]
  },
  {
   "cell_type": "code",
   "execution_count": 2,
   "metadata": {},
   "outputs": [],
   "source": [
    "# import rnn_functions as rf"
   ]
  },
  {
   "cell_type": "code",
   "execution_count": 3,
   "metadata": {},
   "outputs": [],
   "source": [
    "path='models/baseline_biderec'\n",
    "# rnn parameters\n",
    "hidden_size = 100 #100 is the standard\n",
    "batch_size = 512 #for the training on the GPU this to be has to very large, otherwise the GPU is used very inefficiently\n",
    "epochs = 100\n",
    "\n",
    "#glove embedding parameters\n",
    "glove_dir = '../glove/glove.6B.100d.txt'\n",
    "embedding_dim = 100\n",
    "eval_split = 0.2 "
   ]
  },
  {
   "cell_type": "code",
   "execution_count": 14,
   "metadata": {},
   "outputs": [
    {
     "name": "stdout",
     "output_type": "stream",
     "text": [
      "86821\n",
      "86821\n",
      "86821\n",
      "86821\n"
     ]
    }
   ],
   "source": [
    "#open SQuAD-dataset and extract the relevant data from the json-file\n",
    "#to a easier readable/accessible dictionary\n",
    "with open('SQuAD/train-v2.0.json') as file:\n",
    "    train=json.load(file)\n",
    "train_context=[]\n",
    "train_question=[]\n",
    "train_answer=[]\n",
    "train_new={'context':train_context,'question':train_question,'answer':train_answer}\n",
    "for j,data in enumerate(train['data']):\n",
    "    for i,paragraph in enumerate(data['paragraphs']):\n",
    "        context=paragraph['context']\n",
    "        for qas in paragraph['qas']:\n",
    "            #create a dataset with only the answerable questions\n",
    "            #add a bos and eos token to the target\n",
    "            if (qas['is_impossible']==False):\n",
    "                a=context.lower()\n",
    "                b=qas['question'].lower()\n",
    "                c=qas['answers'][0]['text'].lower()\n",
    "                a=re.sub(\",\", ' COMMA',(re.sub(\"'\", '',a)))\n",
    "                \n",
    "                train_new['context'].append(a)\n",
    "                train_new['question'].append(b)\n",
    "                train_new['answer'].append('\\t'+c+'\\n')\n",
    "train_new['decoder_input']=train_new['answer']\n",
    "train_new['decoder_input'][0]='\\n'\n",
    "print(len(train_new['context']))\n",
    "print(len(train_new['question']))\n",
    "print(len(train_new['answer']))\n",
    "print(len(train_new['decoder_input']))"
   ]
  },
  {
   "cell_type": "raw",
   "metadata": {},
   "source": []
  },
  {
   "cell_type": "code",
   "execution_count": 15,
   "metadata": {},
   "outputs": [
    {
     "data": {
      "text/plain": [
       "'beyoncé giselle knowles-carter (/biːˈjɒnseɪ/ bee-yon-say) (born september 4 COMMA 1981) is an american singer COMMA songwriter COMMA record producer and actress. born and raised in houston COMMA texas COMMA she performed in various singing and dancing competitions as a child COMMA and rose to fame in the late 1990s as lead singer of r&b girl-group destinys child. managed by her father COMMA mathew knowles COMMA the group became one of the worlds best-selling girl groups of all time. their hiatus saw the release of beyoncés debut album COMMA dangerously in love (2003) COMMA which established her as a solo artist worldwide COMMA earned five grammy awards and featured the billboard hot 100 number-one singles \"crazy in love\" and \"baby boy\".'"
      ]
     },
     "execution_count": 15,
     "metadata": {},
     "output_type": "execute_result"
    }
   ],
   "source": [
    "train_new['context'][0]"
   ]
  },
  {
   "cell_type": "code",
   "execution_count": 9,
   "metadata": {},
   "outputs": [
    {
     "data": {
      "text/plain": [
       "'beyoncé giselle knowles-carter (/biːˈjɒnseɪ/ bee-yon-say) (born september 4, 1981) is an american singer, songwriter, record producer and actress. born and raised in houston, texas, she performed in various singing and dancing competitions as a child, and rose to fame in the late 1990s as lead singer of r&b girl-group destiny\\'s child. managed by her father, mathew knowles, the group became one of the world\\'s best-selling girl groups of all time. their hiatus saw the release of beyoncé\\'s debut album, dangerously in love (2003), which established her as a solo artist worldwide, earned five grammy awards and featured the billboard hot 100 number-one singles \"crazy in love\" and \"baby boy\".'"
      ]
     },
     "execution_count": 9,
     "metadata": {},
     "output_type": "execute_result"
    }
   ],
   "source": [
    "train_new['context'][0]"
   ]
  },
  {
   "cell_type": "code",
   "execution_count": 24,
   "metadata": {},
   "outputs": [
    {
     "name": "stdout",
     "output_type": "stream",
     "text": [
      "1261\n",
      "182\n",
      "294\n"
     ]
    }
   ],
   "source": [
    "context_set=set()\n",
    "for context in train_new['context']:\n",
    "    for word in context.split():\n",
    "        context_set|=set(word)\n",
    "print(len(context_set))\n",
    "\n",
    "question_set=set()\n",
    "for question in train_new['question']:\n",
    "    for word in question.split():\n",
    "        question_set|=set(word)\n",
    "print(len(question_set))\n",
    "\n",
    "answer_set=set()\n",
    "for answer in train_new['answer']:\n",
    "    for word in answer.split():\n",
    "        answer_set|=set(word)\n",
    "print(len(answer_set))"
   ]
  },
  {
   "cell_type": "code",
   "execution_count": null,
   "metadata": {},
   "outputs": [],
   "source": [
    "#concatenate the data in one vector for preprocessing\n",
    "# train_all=[]\n",
    "# for line in train_new['context']:\n",
    "#     train_all.append(line)\n",
    "# for line in train_new['question']:\n",
    "#     train_all.append(line)\n",
    "# for line in train_new['answer']:\n",
    "#     train_all.append(line)\n",
    "# print('len train_all: ',len(train_all))"
   ]
  },
  {
   "cell_type": "code",
   "execution_count": null,
   "metadata": {},
   "outputs": [],
   "source": [
    "# vocab = set()\n",
    "# for text in train_all:\n",
    "#     vocab |= set(text_to_word_sequence(text))\n",
    "# vocab = sorted(vocab)\n",
    "# vocab_size = len(vocab)+1\n",
    "# print('vocab shape: ',vocab_size)"
   ]
  },
  {
   "cell_type": "code",
   "execution_count": null,
   "metadata": {},
   "outputs": [],
   "source": [
    "#prepare the data to use as input of the rnn\n",
    "tokenizer = Tokenizer(num_words=vocab_size)#oov_token='<unw>',num_words=vocab_size)\n",
    "tokenizer.fit_on_texts(train_all)\n",
    "context_sequences = tokenizer.texts_to_sequences(train_new['context'])\n",
    "question_sequences = tokenizer.texts_to_sequences(train_new['question'])\n",
    "answer_sequences = tokenizer.texts_to_sequences(train_new['answer'])\n",
    "decoder_input_sequences=tokenizer.texts_to_sequences(train_new['decoder_input'])\n",
    "\n",
    "max_len_context=max(map(len,context_sequences))\n",
    "max_len_question=max(map(len,question_sequences))\n",
    "max_len_answer=max(map(len,answer_sequences))\n",
    "max_len_decoder_inputs=max(map(len,decoder_input_sequences))\n",
    "\n",
    "word_index = tokenizer.word_index\n",
    "print('Found %s unique tokens.' % len(word_index))\n",
    "\n",
    "# context = pad_sequences(context_sequences, maxlen=max_len_context)\n",
    "# question = pad_sequences(question_sequences, maxlen=max_len_question)\n",
    "# answer = pad_sequences(answer_sequences, maxlen=max_len_answer)\n",
    "\n",
    "context=context_sequences\n",
    "question=question_sequences\n",
    "answer=answer_sequences\n",
    "decoder_inputs=pad_sequences(decoder_input_sequences,maxlen=max_len_decoder_inputs)\n",
    "\n",
    "context_len=len(context)\n",
    "question_len=len(question)\n",
    "answer_len=len(answer)\n",
    "decoder_input_len=len(decoder_input_sequences)\n",
    "\n",
    "print('Shape of context tensor:', context_len)\n",
    "print('Shape of question tensor:', question_len)\n",
    "print('Shape of answer tensor:', answer_len)\n",
    "print('Shape of teacher forcing tensor:', decoder_input_len)"
   ]
  },
  {
   "cell_type": "code",
   "execution_count": null,
   "metadata": {},
   "outputs": [],
   "source": [
    "#FIX_ME: add glove download\n",
    "# https://nlp.stanford.edu/projects/glove/\n",
    "#get glove embeddings\n",
    "embeddings_index = {}\n",
    "f = open(glove_dir)\n",
    "for line in f:\n",
    "    values = line.split()\n",
    "    word = values[0]\n",
    "    coefs = np.asarray(values[1:], dtype='float32')\n",
    "    embeddings_index[word] = coefs\n",
    "f.close()\n",
    "\n",
    "print('Found %s word vectors.' % len(embeddings_index))"
   ]
  },
  {
   "cell_type": "code",
   "execution_count": null,
   "metadata": {},
   "outputs": [],
   "source": [
    "#extract the glove-embedding to a matrix\n",
    "embedding_matrix = np.zeros((len(word_index) + 1, embedding_dim))\n",
    "for word, i in word_index.items():\n",
    "    embedding_vector = embeddings_index.get(word)\n",
    "    if embedding_vector is not None:\n",
    "        # words not found in embedding index will be all-zeros.\n",
    "        embedding_matrix[i] = embedding_vector\n",
    "np.shape(embedding_matrix)"
   ]
  },
  {
   "cell_type": "code",
   "execution_count": null,
   "metadata": {},
   "outputs": [],
   "source": [
    "# Define an input sequence and process it.\n",
    "context_encoder_inputs = Input(shape=(None,))\n",
    "context_x = Embedding(vocab_size, embedding_dim,weights=[embedding_matrix],\n",
    "                      trainable=False)(context_encoder_inputs)\n",
    "context_x, context_state_h, context_state_c = LSTM(embedding_dim,\n",
    "                           return_state=True)(context_x)\n",
    "context_encoder_states = [context_state_h, context_state_c]\n",
    "\n",
    "question_encoder_inputs = Input(shape=(None,))\n",
    "question_x = Embedding(vocab_size, embedding_dim,weights=[embedding_matrix],\n",
    "                       trainable=False)(question_encoder_inputs)\n",
    "question_x, question_state_h, question_state_c = LSTM(embedding_dim,\n",
    "                           return_state=True)(question_x)\n",
    "question_encoder_states = [question_state_h, question_state_c]\n",
    "\n",
    "state_h=layers.Concatenate()([context_state_h,question_state_h])\n",
    "state_c=layers.Concatenate()([context_state_c,question_state_c])\n",
    "concat_states=[state_h,state_c]\n",
    "\n",
    "# Set up the decoder, using `encoder_states` as initial state.\n",
    "decoder_inputs = Input(shape=(None,))\n",
    "x = Embedding(vocab_size, embedding_dim,weights=[embedding_matrix],trainable=False)(decoder_inputs)\n",
    "x = LSTM(embedding_dim*2, return_sequences=True)(x, initial_state=concat_states)\n",
    "decoder_outputs = Dense(max_len_decoder_inputs, activation='softmax')(x)\n",
    "\n",
    "# Define the model that will turn\n",
    "# `encoder_input_data` & `decoder_input_data` into `decoder_target_data`\n",
    "model = Model([context_encoder_inputs,question_encoder_inputs, decoder_inputs], decoder_outputs)\n",
    "\n",
    "# Compile & run training\n",
    "model.compile(optimizer='adam', loss='categorical_crossentropy')\n",
    "model.summary()"
   ]
  },
  {
   "cell_type": "code",
   "execution_count": null,
   "metadata": {},
   "outputs": [],
   "source": [
    "from IPython.display import SVG\n",
    "from keras.utils.vis_utils import model_to_dot\n",
    "\n",
    "SVG(model_to_dot(model).create(prog='dot', format='svg'))"
   ]
  },
  {
   "cell_type": "code",
   "execution_count": null,
   "metadata": {},
   "outputs": [],
   "source": [
    "# Note that `decoder_target_data` needs to be one-hot encoded,\n",
    "# rather than sequences of integers like `decoder_input_data`!\n",
    "\n",
    "# model.fit([encoder_input_data, decoder_input_data], decoder_target_data,\n",
    "#           batch_size=batch_size,\n",
    "#           epochs=epochs,\n",
    "#           validation_split=0.2)"
   ]
  },
  {
   "cell_type": "code",
   "execution_count": null,
   "metadata": {},
   "outputs": [],
   "source": [
    "# print('Training')\n",
    "# #flatten y_train\n",
    "# model.fit([x_train_context, x_train_question], y_train_answer,\n",
    "#           batch_size=batch_size,\n",
    "#           epochs=epochs,\n",
    "#           validation_split=0.05)\n",
    "\n",
    "# print('Evaluation')\n",
    "# loss, acc = model.evaluate([x_eval_context, x_eval_question], y_eval_answer,\n",
    "#                            batch_size=batch_size)\n",
    "# print('Test loss / test accuracy = {:.4f} / {:.4f}'.format(loss, acc))"
   ]
  },
  {
   "cell_type": "code",
   "execution_count": null,
   "metadata": {},
   "outputs": [],
   "source": [
    "# print('save model')\n",
    "# # plot_model(model, to_file=path+'/model.png')\n",
    "# model.save_weights('models/baseline/baseline_model.h5') #save weights\n",
    "# model_json = model.to_json()\n",
    "# with open(\"models/baseline/baseline_model.json\",'w') as json_file:\n",
    "#     json_file.write(model_json)"
   ]
  }
 ],
 "metadata": {
  "kernelspec": {
   "display_name": "Python 3",
   "language": "python",
   "name": "python3"
  },
  "language_info": {
   "codemirror_mode": {
    "name": "ipython",
    "version": 3
   },
   "file_extension": ".py",
   "mimetype": "text/x-python",
   "name": "python",
   "nbconvert_exporter": "python",
   "pygments_lexer": "ipython3",
   "version": "3.6.7"
  }
 },
 "nbformat": 4,
 "nbformat_minor": 2
}
