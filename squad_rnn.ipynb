{
 "cells": [
  {
   "cell_type": "code",
   "execution_count": 1,
   "metadata": {},
   "outputs": [
    {
     "name": "stderr",
     "output_type": "stream",
     "text": [
      "Using TensorFlow backend.\n"
     ]
    },
    {
     "data": {
      "text/html": [
       "<style>.container { width:100% !important; }</style>"
      ],
      "text/plain": [
       "<IPython.core.display.HTML object>"
      ]
     },
     "metadata": {},
     "output_type": "display_data"
    }
   ],
   "source": [
    "# on server: 'screen' ,then start script\n",
    "# use 'strg+a d' to return to terminal\n",
    "# use 'screen -r' to return to screen\n",
    "import numpy as np\n",
    "import json\n",
    "import os\n",
    "import math\n",
    "\n",
    "# from keras.utils import plot_model\n",
    "from keras.models import model_from_json\n",
    "os.environ['CUDA_VISIBLE_DEVICES']='2'\n",
    "\n",
    "import preprocess_data as ppd\n",
    "import make_RNN_models as mrm\n",
    "import train_slices as ts\n",
    "\n",
    "from tqdm import tqdm\n",
    "\n",
    "from IPython.core.display import display, HTML\n",
    "display(HTML(\"<style>.container { width:100% !important; }</style>\"))"
   ]
  },
  {
   "cell_type": "code",
   "execution_count": 2,
   "metadata": {},
   "outputs": [],
   "source": [
    "# https://towardsdatascience.com/nlp-sequence-to-sequence-networks-part-1-processing-text-data-d141a5643b72\n",
    "path='testpath/'\n",
    "# rnn parameters\n",
    "hidden_size = 100 #100 is the standard\n",
    "batch_size = 100 #for the training on the GPU this to be has to very large, otherwise the GPU is used very inefficiently\n",
    "epochs = 1#50\n",
    "\n",
    "size=10000\n",
    "\n",
    "#glove embedding parameters\n",
    "glove_dir = '../glove/glove.6B.100d.txt'\n",
    "embedding_dim = 100"
   ]
  },
  {
   "cell_type": "code",
   "execution_count": 3,
   "metadata": {},
   "outputs": [
    {
     "name": "stdout",
     "output_type": "stream",
     "text": [
      "130319\n",
      "130319\n",
      "130319\n",
      "130319\n"
     ]
    }
   ],
   "source": [
    "#open SQuAD-dataset and extract the relevant data from the json-file\n",
    "#to a easier readable/accessible dictionary\n",
    "with open('SQuAD/train-v2.0.json') as file:\n",
    "    train=json.load(file)\n",
    "train_qid=[]\n",
    "train_context=[]\n",
    "train_question=[]\n",
    "train_answer=[]\n",
    "train_new={'context':train_context,'question':train_question,'answer':train_answer,'qid':train_qid}\n",
    "for j,data in enumerate(train['data']):\n",
    "    for i,paragraph in enumerate(data['paragraphs']):\n",
    "        context=paragraph['context']\n",
    "        for qas in paragraph['qas']:\n",
    "            \n",
    "            #create a dataset with only the answerable questions\n",
    "            #add a bos and eos token to the target\n",
    "            if (qas['is_impossible']==False):\n",
    "                c=qas['answers'][0]['text'].lower()\n",
    "                \n",
    "                train_new['qid'].append(qas['id'])\n",
    "                train_new['context'].append(context.lower())\n",
    "                train_new['question'].append(qas['question'].lower())\n",
    "                train_new['answer'].append('START_ '+c+' _END')\n",
    "            else:\n",
    "                train_new['qid'].append(qas['id'])\n",
    "                train_new['context'].append(context.lower())\n",
    "                train_new['question'].append(qas['question'].lower())\n",
    "                train_new['answer'].append('START_ '+str(qas['answers'])+' _END')\n",
    "print(len(train_new['qid']))\n",
    "print(len(train_new['context']))\n",
    "print(len(train_new['question']))\n",
    "print(len(train_new['answer']))"
   ]
  },
  {
   "cell_type": "code",
   "execution_count": 4,
   "metadata": {},
   "outputs": [],
   "source": [
    "data_info=ppd.get_data_info([train_new['context'],\n",
    "                             train_new['question'],\n",
    "                             train_new['answer']])"
   ]
  },
  {
   "cell_type": "code",
   "execution_count": 5,
   "metadata": {},
   "outputs": [],
   "source": [
    "# #FIX_ME: add glove download\n",
    "# # https://nlp.stanford.edu/projects/glove/\n",
    "# #get glove embeddings\n",
    "# # https://medium.com/@sabber/classifying-yelp-review-comments-using-cnn-lstm-and-pre-trained-glove-word-embeddings-part-3-53fcea9a17fa\n",
    "# print('getting the glove embeddings')\n",
    "# embeddings_index = {}\n",
    "# f = open(glove_dir)\n",
    "# for line in tqdm(f):\n",
    "#     values = line.split()\n",
    "#     word = values[0]\n",
    "#     coefs = np.asarray(values[1:], dtype='float32')\n",
    "#     embeddings_index[word] = coefs\n",
    "# f.close()\n",
    "\n",
    "# print('Found %s word vectors.' % len(embeddings_index))"
   ]
  },
  {
   "cell_type": "code",
   "execution_count": 6,
   "metadata": {},
   "outputs": [],
   "source": [
    "# #extract the glove-embedding to a matrix\n",
    "# context_embedding_matrix = np.zeros((data_info['len_context_vocab'], embedding_dim))\n",
    "# for word, i in data_info['context_token_to_int'].items():\n",
    "#     embedding_vector = embeddings_index.get(word)\n",
    "#     if embedding_vector is not None:\n",
    "#         # words not found in embedding index will be all-zeros.\n",
    "#         context_embedding_matrix[i] = embedding_vector\n",
    "\n",
    "# question_embedding_matrix = np.zeros((data_info['len_question_vocab'], embedding_dim))\n",
    "# for word, i in data_info['question_token_to_int'].items():\n",
    "#     embedding_vector = embeddings_index.get(word)\n",
    "#     if embedding_vector is not None:\n",
    "#         # words not found in embedding index will be all-zeros.\n",
    "#         question_embedding_matrix[i] = embedding_vector\n",
    "\n",
    "# answer_embedding_matrix = np.zeros((data_info['len_answer_vocab'], embedding_dim))\n",
    "# for word, i in data_info['answer_token_to_int'].items():\n",
    "#     embedding_vector = embeddings_index.get(word)\n",
    "#     if embedding_vector is not None:\n",
    "#         # words not found in embedding index will be all-zeros.\n",
    "#         answer_embedding_matrix[i] = embedding_vector"
   ]
  },
  {
   "cell_type": "code",
   "execution_count": 7,
   "metadata": {},
   "outputs": [],
   "source": [
    "# for slice_size in range(12,math.ceil(len(train_new['context'])/size)):\n",
    "#     ts.train_slices([train_new['context'],train_new['question'],train_new['answer']],\n",
    "#                     data_info,\n",
    "#                     [context_embedding_matrix,question_embedding_matrix,answer_embedding_matrix],\n",
    "#                     hidden_size,\n",
    "#                     embedding_dim,\n",
    "#                     batch_size,\n",
    "#                     epochs,\n",
    "#                     slice_size,\n",
    "#                     size,\n",
    "#                     path)"
   ]
  },
  {
   "cell_type": "code",
   "execution_count": 20,
   "metadata": {},
   "outputs": [
    {
     "name": "stdout",
     "output_type": "stream",
     "text": [
      "start inference\n",
      "inference on part 0 of the dataset\n"
     ]
    },
    {
     "name": "stderr",
     "output_type": "stream",
     "text": [
      "100%|██████████| 10000/10000 [00:00<00:00, 1384076.03it/s]"
     ]
    },
    {
     "name": "stdout",
     "output_type": "stream",
     "text": [
      "len_ans_dict 0\n",
      "inference on part 1 of the dataset\n"
     ]
    },
    {
     "name": "stderr",
     "output_type": "stream",
     "text": [
      "\n",
      "100%|██████████| 10000/10000 [00:00<00:00, 1262888.11it/s]"
     ]
    },
    {
     "name": "stdout",
     "output_type": "stream",
     "text": [
      "len_ans_dict 10000\n",
      "inference on part 2 of the dataset\n"
     ]
    },
    {
     "name": "stderr",
     "output_type": "stream",
     "text": [
      "\n",
      "100%|██████████| 10000/10000 [00:00<00:00, 1262736.03it/s]"
     ]
    },
    {
     "name": "stdout",
     "output_type": "stream",
     "text": [
      "len_ans_dict 20000\n",
      "inference on part 3 of the dataset\n"
     ]
    },
    {
     "name": "stderr",
     "output_type": "stream",
     "text": [
      "\n",
      "100%|██████████| 10000/10000 [00:00<00:00, 1204982.76it/s]"
     ]
    },
    {
     "name": "stdout",
     "output_type": "stream",
     "text": [
      "len_ans_dict 30000\n",
      "inference on part 4 of the dataset\n"
     ]
    },
    {
     "name": "stderr",
     "output_type": "stream",
     "text": [
      "\n",
      "100%|██████████| 10000/10000 [00:00<00:00, 1140686.43it/s]"
     ]
    },
    {
     "name": "stdout",
     "output_type": "stream",
     "text": [
      "len_ans_dict 40000\n",
      "inference on part 5 of the dataset\n"
     ]
    },
    {
     "name": "stderr",
     "output_type": "stream",
     "text": [
      "\n",
      "100%|██████████| 10000/10000 [00:00<00:00, 1219487.12it/s]"
     ]
    },
    {
     "name": "stdout",
     "output_type": "stream",
     "text": [
      "len_ans_dict 50000\n",
      "inference on part 6 of the dataset\n"
     ]
    },
    {
     "name": "stderr",
     "output_type": "stream",
     "text": [
      "\n",
      "100%|██████████| 10000/10000 [00:00<00:00, 1226655.75it/s]"
     ]
    },
    {
     "name": "stdout",
     "output_type": "stream",
     "text": [
      "len_ans_dict 60000\n",
      "inference on part 7 of the dataset\n"
     ]
    },
    {
     "name": "stderr",
     "output_type": "stream",
     "text": [
      "\n",
      "100%|██████████| 10000/10000 [00:00<00:00, 1200190.00it/s]"
     ]
    },
    {
     "name": "stdout",
     "output_type": "stream",
     "text": [
      "len_ans_dict 70000\n",
      "inference on part 8 of the dataset\n"
     ]
    },
    {
     "name": "stderr",
     "output_type": "stream",
     "text": [
      "\n",
      "100%|██████████| 10000/10000 [00:00<00:00, 959026.87it/s]"
     ]
    },
    {
     "name": "stdout",
     "output_type": "stream",
     "text": [
      "len_ans_dict 80000\n",
      "inference on part 9 of the dataset\n"
     ]
    },
    {
     "name": "stderr",
     "output_type": "stream",
     "text": [
      "\n",
      "100%|██████████| 10000/10000 [00:00<00:00, 1207271.89it/s]"
     ]
    },
    {
     "name": "stdout",
     "output_type": "stream",
     "text": [
      "len_ans_dict 90000\n",
      "inference on part 10 of the dataset\n"
     ]
    },
    {
     "name": "stderr",
     "output_type": "stream",
     "text": [
      "\n",
      "100%|██████████| 10000/10000 [00:00<00:00, 1185903.64it/s]"
     ]
    },
    {
     "name": "stdout",
     "output_type": "stream",
     "text": [
      "len_ans_dict 100000\n",
      "inference on part 11 of the dataset\n"
     ]
    },
    {
     "name": "stderr",
     "output_type": "stream",
     "text": [
      "\n",
      "100%|██████████| 10000/10000 [00:00<00:00, 1186641.77it/s]"
     ]
    },
    {
     "name": "stdout",
     "output_type": "stream",
     "text": [
      "len_ans_dict 110000\n",
      "inference on part 12 of the dataset\n"
     ]
    },
    {
     "name": "stderr",
     "output_type": "stream",
     "text": [
      "\n",
      "100%|██████████| 10000/10000 [00:00<00:00, 1169274.34it/s]\n",
      "100%|██████████| 319/319 [00:00<00:00, 563598.56it/s]"
     ]
    },
    {
     "name": "stdout",
     "output_type": "stream",
     "text": [
      "len_ans_dict 120000\n",
      "inference on part 13 of the dataset\n",
      "len_ans_dict 130000\n",
      "len_ans_dict 130319\n"
     ]
    },
    {
     "name": "stderr",
     "output_type": "stream",
     "text": [
      "\n"
     ]
    }
   ],
   "source": [
    "path='models/'\n",
    "print('start inference')\n",
    "with open(path+'encoder_model.json', 'r') as encoder_json_file:\n",
    "    loaded_model_json = encoder_json_file.read()\n",
    "    encoder_model = model_from_json(loaded_model_json)\n",
    "encoder_model.load_weights(path+'encoder_model.h5')\n",
    "encoder_json_file.close()\n",
    "    \n",
    "with open(path+'decoder_model.json', 'r') as decoder_json_file:\n",
    "    loaded_model_json = decoder_json_file.read()\n",
    "    decoder_model = model_from_json(loaded_model_json)\n",
    "decoder_model.load_weights(path+'decoder_model.h5')\n",
    "decoder_json_file.close()\n",
    "########################################################\n",
    "qid_to_answer_dict={}\n",
    "for slice_size in range(math.ceil(len(train_new['context'])/size)):\n",
    "    print('inference on part %s of the dataset' % slice_size)\n",
    "    input_data=ppd.process_data([train_new['context'][size*slice_size:size*(slice_size+1)],\n",
    "                                 train_new['question'][size*slice_size:size*(slice_size+1)],\n",
    "                                 train_new['answer'][size*slice_size:size*(slice_size+1)]]\n",
    "                                ,data_info)\n",
    "    #####################################################\n",
    "    print('len_ans_dict',len(qid_to_answer_dict))\n",
    "    for seq_index in tqdm(range(len(train_new['context'][size*slice_size:size*(slice_size+1)]))):\n",
    "#         decoded_sentence = ppd.decode_sequence(input_data['encoder_input']['context_encoder_input'][seq_index:seq_index+1],\n",
    "#                                                 input_data['encoder_input']['question_encoder_input'][seq_index:seq_index+1],\n",
    "#                                                 data_info['answer_token_to_int'],\n",
    "#                                                 data_info['answer_int_to_token'],\n",
    "#                                                 encoder_model,\n",
    "#                                                 decoder_model)\n",
    "        qid_to_answer_dict[train_new['qid'][seq_index+(slice_size*size)]]=1#decoded_sentence\n",
    "print('len_ans_dict',len(qid_to_answer_dict))\n",
    "# with open(path+'answers.json', 'w') as file:\n",
    "#     json.dump(qid_to_answer_dict, file)\n",
    "# file.close()"
   ]
  },
  {
   "cell_type": "code",
   "execution_count": 9,
   "metadata": {},
   "outputs": [],
   "source": [
    "# with open('ddas.txt','a') as file:\n",
    "#     file.write('f')"
   ]
  },
  {
   "cell_type": "code",
   "execution_count": 10,
   "metadata": {},
   "outputs": [],
   "source": [
    "# with open('SQuAD/answers.json', 'w') as file:\n",
    "#     json.dump(qid_to_answer_dict, file)"
   ]
  },
  {
   "cell_type": "code",
   "execution_count": 11,
   "metadata": {},
   "outputs": [],
   "source": [
    "# with open('SQuAD/answers.json') as file:\n",
    "#     answers_json=json.load(file)"
   ]
  },
  {
   "cell_type": "code",
   "execution_count": 12,
   "metadata": {},
   "outputs": [],
   "source": [
    "# from IPython.display import SVG\n",
    "# from keras.utils.vis_utils import model_to_dot\n",
    "\n",
    "# SVG(model_to_dot(model).create(prog='dot', format='svg'))"
   ]
  },
  {
   "cell_type": "code",
   "execution_count": 13,
   "metadata": {},
   "outputs": [],
   "source": [
    "# plot_model(model, to_file=path+'/model.png')"
   ]
  },
  {
   "cell_type": "code",
   "execution_count": 14,
   "metadata": {},
   "outputs": [],
   "source": [
    "# print('save model')\n",
    "# if not os.path.isdir(path):\n",
    "#     os.makedirs(path)\n",
    "# model.save_weights(path+str('baseline_model.h5')) #save weights\n",
    "# model_json = model.to_json()\n",
    "# with open(path+str('baseline_model.json'),'w') as json_file:\n",
    "#     json_file.write(model_json)"
   ]
  }
 ],
 "metadata": {
  "kernelspec": {
   "display_name": "Python 3",
   "language": "python",
   "name": "python3"
  },
  "language_info": {
   "codemirror_mode": {
    "name": "ipython",
    "version": 3
   },
   "file_extension": ".py",
   "mimetype": "text/x-python",
   "name": "python",
   "nbconvert_exporter": "python",
   "pygments_lexer": "ipython3",
   "version": "3.5.2"
  }
 },
 "nbformat": 4,
 "nbformat_minor": 2
}
