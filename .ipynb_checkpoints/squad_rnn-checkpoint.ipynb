{
 "cells": [
  {
   "cell_type": "code",
   "execution_count": 1,
   "metadata": {},
   "outputs": [
    {
     "name": "stderr",
     "output_type": "stream",
     "text": [
      "Using TensorFlow backend.\n"
     ]
    }
   ],
   "source": [
    "# on server: 'screen' ,then start script\n",
    "# use 'strg+a d' to return to terminal\n",
    "# use 'screen -r' to return to screen\n",
    "\n",
    "import numpy as np\n",
    "import json\n",
    "import os\n",
    "\n",
    "from keras.utils.data_utils import get_file\n",
    "from keras.layers.embeddings import Embedding\n",
    "from keras import layers\n",
    "from keras.layers import recurrent\n",
    "from keras.models import Model\n",
    "from keras.preprocessing.sequence import pad_sequences\n",
    "from keras.preprocessing.text import Tokenizer\n",
    "from keras.preprocessing.text import text_to_word_sequence\n",
    "from keras.layers import Input,Dense,LSTM,GRU\n",
    "from keras.layers import Bidirectional\n",
    "from keras.utils import plot_model\n",
    "# os.environ['CUDA_VISIBLE_DEVICES']='0'\n",
    "\n",
    "import rnn_functions as rf"
   ]
  },
  {
   "cell_type": "code",
   "execution_count": 2,
   "metadata": {},
   "outputs": [],
   "source": [
    "path='testpath/'\n",
    "# rnn parameters\n",
    "hidden_size = 100 #100 is the standard\n",
    "batch_size = 512 #for the training on the GPU this to be has to very large, otherwise the GPU is used very inefficiently\n",
    "epochs = 100\n",
    "\n",
    "#glove embedding parameters\n",
    "glove_dir = '../glove/glove.6B.100d.txt'\n",
    "embedding_dim = 100"
   ]
  },
  {
   "cell_type": "code",
   "execution_count": 3,
   "metadata": {},
   "outputs": [
    {
     "name": "stdout",
     "output_type": "stream",
     "text": [
      "86821\n",
      "86821\n",
      "86821\n"
     ]
    }
   ],
   "source": [
    "#open SQuAD-dataset and extract the relevant data from the json-file\n",
    "#to a easier readable/accessible dictionary\n",
    "with open('SQuAD/train-v2.0.json') as file:\n",
    "    train=json.load(file)\n",
    "train_context=[]\n",
    "train_question=[]\n",
    "train_answer=[]\n",
    "train_new={'context':train_context,'question':train_question,'answer':train_answer}\n",
    "for j,data in enumerate(train['data']):\n",
    "    for i,paragraph in enumerate(data['paragraphs']):\n",
    "        context=paragraph['context']\n",
    "        for qas in paragraph['qas']:\n",
    "            #create a dataset with only the answerable questions\n",
    "            #add a bos and eos token to the target\n",
    "            if (qas['is_impossible']==False):\n",
    "                a=context.lower()\n",
    "                b=qas['question'].lower()\n",
    "                c=qas['answers'][0]['text'].lower()\n",
    "                \n",
    "                train_new['context'].append('\\t'+a+'\\n')\n",
    "                train_new['question'].append('\\t'+b+'\\n')\n",
    "                train_new['answer'].append('\\t'+c+'\\n')\n",
    "print(len(train_new['context']))\n",
    "print(len(train_new['question']))\n",
    "print(len(train_new['answer']))"
   ]
  },
  {
   "cell_type": "code",
   "execution_count": 4,
   "metadata": {},
   "outputs": [],
   "source": [
    "size=10000\n",
    "context=train_new['context'][:size]\n",
    "question=train_new['question'][:size]\n",
    "answer=train_new['answer'][:size]"
   ]
  },
  {
   "cell_type": "code",
   "execution_count": 5,
   "metadata": {},
   "outputs": [],
   "source": [
    "# https://towardsdatascience.com/nlp-sequence-to-sequence-networks-part-1-processing-text-data-d141a5643b72\n",
    "# Create word dictionaries :\n",
    "context_words=set()\n",
    "for line in context:\n",
    "    for word in line.split():\n",
    "        if word not in context_words:\n",
    "            context_words.add(word)\n",
    "    \n",
    "question_words=set()\n",
    "for line in question:\n",
    "    for word in line.split():\n",
    "        if word not in question_words:\n",
    "            question_words.add(word)\n",
    "            \n",
    "answer_words=set()\n",
    "for line in answer:\n",
    "    for word in line.split():\n",
    "        if word not in answer_words:\n",
    "            answer_words.add(word)"
   ]
  },
  {
   "cell_type": "code",
   "execution_count": 6,
   "metadata": {},
   "outputs": [
    {
     "name": "stdout",
     "output_type": "stream",
     "text": [
      "33295 12828 8539\n",
      "499 30 43\n",
      "10000 10000 10000\n"
     ]
    }
   ],
   "source": [
    "# get lengths and sizes :\n",
    "len_context_vocab = len(context_words)\n",
    "len_question_vocab = len(question_words)\n",
    "len_answer_vocab = len(answer_words)\n",
    "\n",
    "max_context_len = max([len(line.split()) for line in context])\n",
    "max_question_len = max([len(line.split()) for line in question])\n",
    "max_answer_len = max([len(line.split()) for line in answer])\n",
    "\n",
    "len_context = len(context)\n",
    "len_question = len(question)\n",
    "len_answer = len(answer)\n",
    "\n",
    "print(len_context_vocab,len_question_vocab,len_answer_vocab)\n",
    "print(max_context_len,max_question_len,max_answer_len)\n",
    "print(len_context,len_question,len_answer)"
   ]
  },
  {
   "cell_type": "code",
   "execution_count": 7,
   "metadata": {},
   "outputs": [
    {
     "name": "stdout",
     "output_type": "stream",
     "text": [
      "33295 33295\n"
     ]
    }
   ],
   "source": [
    "# Get lists of words :\n",
    "input_context_words = sorted(list(context_words))\n",
    "input_question_words = sorted(list(question_words))\n",
    "target_answer_words = sorted(list(answer_words))\n",
    "\n",
    "context_token_to_int = dict()\n",
    "context_int_to_token = dict()\n",
    "\n",
    "question_token_to_int = dict()\n",
    "question_int_to_token = dict()\n",
    "\n",
    "answer_token_to_int = dict()\n",
    "answer_int_to_token = dict()\n",
    "\n",
    "#Tokenizing the words ( Convert them to numbers ) :\n",
    "for i,token in enumerate(input_context_words):\n",
    "    context_token_to_int[token] = i\n",
    "    context_int_to_token[i]     = token\n",
    "\n",
    "for i,token in enumerate(input_question_words):\n",
    "    question_token_to_int[token] = i\n",
    "    question_int_to_token[i]     = token\n",
    "    \n",
    "for i,token in enumerate(target_answer_words):\n",
    "    answer_token_to_int[token] = i\n",
    "    answer_int_to_token[i]     = token\n",
    "    \n",
    "print(len(context_token_to_int),len(context_int_to_token))"
   ]
  },
  {
   "cell_type": "code",
   "execution_count": 8,
   "metadata": {},
   "outputs": [
    {
     "name": "stdout",
     "output_type": "stream",
     "text": [
      "(10000, 499) (10000, 30) (10000, 43) (10000, 43, 8539)\n"
     ]
    }
   ],
   "source": [
    "# initiate numpy arrays to hold the data that our seq2seq model will use:\n",
    "encoder_input_context = np.zeros(\n",
    "    (len_context, max_context_len),\n",
    "    dtype='float32')\n",
    "encoder_input_question = np.zeros(\n",
    "    (len_question, max_question_len),\n",
    "    dtype='float32')\n",
    "decoder_input_answer = np.zeros(\n",
    "    (len_answer, max_answer_len),\n",
    "    dtype='float32')\n",
    "decoder_target_answer = np.zeros(\n",
    "    (len_answer, max_answer_len, len_answer_vocab),\n",
    "    dtype='float32')\n",
    "print(np.shape(encoder_input_context),np.shape(encoder_input_question),np.shape(decoder_input_answer),np.shape(decoder_target_answer))"
   ]
  },
  {
   "cell_type": "code",
   "execution_count": 9,
   "metadata": {},
   "outputs": [],
   "source": [
    "# Process samples, to get input, output, target data:\n",
    "for i, (input_context, input_question,target_answer) in enumerate(zip(context,question,answer)):\n",
    "    for t, word in enumerate(input_context.split()):\n",
    "        encoder_input_context[i, t] = context_token_to_int[word]\n",
    "        \n",
    "    for t, word in enumerate(input_question.split()):\n",
    "        encoder_input_question[i, t] = question_token_to_int[word]\n",
    "        \n",
    "    for t, word in enumerate(target_answer.split()):\n",
    "        # decoder_target_answer is ahead of decoder_input_answer by one timestep\n",
    "        decoder_input_answer[i, t] = answer_token_to_int[word]\n",
    "        if t > 0:\n",
    "            # decoder_target_answer will be ahead by one timestep\n",
    "            # and will not include the start character.\n",
    "            decoder_target_answer[i, t - 1, answer_token_to_int[word]] = 1."
   ]
  },
  {
   "cell_type": "code",
   "execution_count": 10,
   "metadata": {},
   "outputs": [
    {
     "name": "stdout",
     "output_type": "stream",
     "text": [
      "Found 400000 word vectors.\n"
     ]
    }
   ],
   "source": [
    "#FIX_ME: add glove download\n",
    "# https://nlp.stanford.edu/projects/glove/\n",
    "#get glove embeddings\n",
    "embeddings_index = {}\n",
    "f = open(glove_dir)\n",
    "for line in f:\n",
    "    values = line.split()\n",
    "    word = values[0]\n",
    "    coefs = np.asarray(values[1:], dtype='float32')\n",
    "    embeddings_index[word] = coefs\n",
    "f.close()\n",
    "\n",
    "print('Found %s word vectors.' % len(embeddings_index))"
   ]
  },
  {
   "cell_type": "code",
   "execution_count": 11,
   "metadata": {},
   "outputs": [
    {
     "name": "stdout",
     "output_type": "stream",
     "text": [
      "(33295, 100) (12828, 100) (8539, 100)\n"
     ]
    }
   ],
   "source": [
    "#extract the glove-embedding to a matrix\n",
    "context_embedding_matrix = np.zeros((len_context_vocab, embedding_dim))\n",
    "for word, i in context_token_to_int.items():\n",
    "    embedding_vector = embeddings_index.get(word)\n",
    "    if embedding_vector is not None:\n",
    "        # words not found in embedding index will be all-zeros.\n",
    "        context_embedding_matrix[i] = embedding_vector\n",
    "\n",
    "question_embedding_matrix = np.zeros((len_question_vocab, embedding_dim))\n",
    "for word, i in question_token_to_int.items():\n",
    "    embedding_vector = embeddings_index.get(word)\n",
    "    if embedding_vector is not None:\n",
    "        # words not found in embedding index will be all-zeros.\n",
    "        question_embedding_matrix[i] = embedding_vector\n",
    "\n",
    "answer_embedding_matrix = np.zeros((len_answer_vocab, embedding_dim))\n",
    "for word, i in answer_token_to_int.items():\n",
    "    embedding_vector = embeddings_index.get(word)\n",
    "    if embedding_vector is not None:\n",
    "        # words not found in embedding index will be all-zeros.\n",
    "        answer_embedding_matrix[i] = embedding_vector\n",
    "print(np.shape(context_embedding_matrix),np.shape(question_embedding_matrix),np.shape(answer_embedding_matrix))"
   ]
  },
  {
   "cell_type": "code",
   "execution_count": 12,
   "metadata": {},
   "outputs": [
    {
     "name": "stdout",
     "output_type": "stream",
     "text": [
      "__________________________________________________________________________________________________\n",
      "Layer (type)                    Output Shape         Param #     Connected to                     \n",
      "==================================================================================================\n",
      "input_1 (InputLayer)            (None, None)         0                                            \n",
      "__________________________________________________________________________________________________\n",
      "input_2 (InputLayer)            (None, None)         0                                            \n",
      "__________________________________________________________________________________________________\n",
      "embedding_1 (Embedding)         (None, None, 100)    3329500     input_1[0][0]                    \n",
      "__________________________________________________________________________________________________\n",
      "embedding_2 (Embedding)         (None, None, 100)    1282800     input_2[0][0]                    \n",
      "__________________________________________________________________________________________________\n",
      "input_3 (InputLayer)            (None, None)         0                                            \n",
      "__________________________________________________________________________________________________\n",
      "lstm_1 (LSTM)                   [(None, 100), (None, 80400       embedding_1[0][0]                \n",
      "__________________________________________________________________________________________________\n",
      "lstm_2 (LSTM)                   [(None, 100), (None, 80400       embedding_2[0][0]                \n",
      "__________________________________________________________________________________________________\n",
      "embedding_3 (Embedding)         (None, None, 100)    853900      input_3[0][0]                    \n",
      "__________________________________________________________________________________________________\n",
      "concatenate_1 (Concatenate)     (None, 200)          0           lstm_1[0][1]                     \n",
      "                                                                 lstm_2[0][1]                     \n",
      "__________________________________________________________________________________________________\n",
      "concatenate_2 (Concatenate)     (None, 200)          0           lstm_1[0][2]                     \n",
      "                                                                 lstm_2[0][2]                     \n",
      "__________________________________________________________________________________________________\n",
      "lstm_3 (LSTM)                   (None, None, 200)    240800      embedding_3[0][0]                \n",
      "                                                                 concatenate_1[0][0]              \n",
      "                                                                 concatenate_2[0][0]              \n",
      "__________________________________________________________________________________________________\n",
      "dense_1 (Dense)                 (None, None, 8539)   1716339     lstm_3[0][0]                     \n",
      "==================================================================================================\n",
      "Total params: 7,584,139\n",
      "Trainable params: 2,117,939\n",
      "Non-trainable params: 5,466,200\n",
      "__________________________________________________________________________________________________\n"
     ]
    }
   ],
   "source": [
    "# Define an input sequence and process it.\n",
    "context_encoder_inputs = Input(shape=(None,))\n",
    "context_x = Embedding(len_context_vocab, embedding_dim,weights=[context_embedding_matrix],\n",
    "                      trainable=False)(context_encoder_inputs)\n",
    "context_x, context_state_h, context_state_c = LSTM(embedding_dim,\n",
    "                           return_state=True)(context_x)\n",
    "context_encoder_states = [context_state_h, context_state_c]\n",
    "\n",
    "question_encoder_inputs = Input(shape=(None,))\n",
    "question_x = Embedding(len_question_vocab, embedding_dim,weights=[question_embedding_matrix],\n",
    "                       trainable=False)(question_encoder_inputs)\n",
    "question_x, question_state_h, question_state_c = LSTM(embedding_dim,\n",
    "                           return_state=True)(question_x)\n",
    "question_encoder_states = [question_state_h, question_state_c]\n",
    "\n",
    "state_h=layers.Concatenate()([context_state_h,question_state_h])\n",
    "state_c=layers.Concatenate()([context_state_c,question_state_c])\n",
    "concat_states=[state_h,state_c]\n",
    "\n",
    "# Set up the decoder, using `encoder_states` as initial state.\n",
    "decoder_inputs = Input(shape=(None,))\n",
    "x = Embedding(len_answer_vocab, embedding_dim,weights=[answer_embedding_matrix],trainable=False)(decoder_inputs)\n",
    "x = LSTM(embedding_dim*2, return_sequences=True)(x, initial_state=concat_states)\n",
    "decoder_outputs = Dense(len_answer_vocab, activation='softmax')(x)\n",
    "\n",
    "# Define the model that will turn\n",
    "# `encoder_input_data` & `decoder_input_data` into `decoder_target_data`\n",
    "model = Model([context_encoder_inputs,question_encoder_inputs, decoder_inputs], decoder_outputs)\n",
    "\n",
    "# Compile & run training\n",
    "model.compile(optimizer='adam', loss='categorical_crossentropy')\n",
    "model.summary()"
   ]
  },
  {
   "cell_type": "code",
   "execution_count": 17,
   "metadata": {},
   "outputs": [],
   "source": [
    "# from IPython.display import SVG\n",
    "# from keras.utils.vis_utils import model_to_dot\n",
    "\n",
    "# SVG(model_to_dot(model).create(prog='dot', format='svg'))"
   ]
  },
  {
   "cell_type": "code",
   "execution_count": null,
   "metadata": {},
   "outputs": [],
   "source": [
    "# plot_model(model, to_file=path+'/model.png')"
   ]
  },
  {
   "cell_type": "code",
   "execution_count": null,
   "metadata": {},
   "outputs": [],
   "source": [
    "# # Note that `decoder_target_data` needs to be one-hot encoded,\n",
    "# # rather than sequences of integers like `decoder_input_data`!\n",
    "\n",
    "# model.fit([encoder_input_context,encoder_input_question, decoder_input_answer], decoder_target_answer,\n",
    "#           batch_size=batch_size,\n",
    "#           epochs=epochs,\n",
    "#           validation_split=0.2)"
   ]
  },
  {
   "cell_type": "code",
   "execution_count": 23,
   "metadata": {},
   "outputs": [
    {
     "name": "stdout",
     "output_type": "stream",
     "text": [
      "save model\n"
     ]
    },
    {
     "name": "stderr",
     "output_type": "stream",
     "text": [
      "/home/users/jacob/.local/lib/python3.5/site-packages/keras/engine/network.py:877: UserWarning: Layer lstm_3 was passed non-serializable keyword arguments: {'initial_state': [<tf.Tensor 'concatenate_1/concat:0' shape=(?, 200) dtype=float32>, <tf.Tensor 'concatenate_2/concat:0' shape=(?, 200) dtype=float32>]}. They will not be included in the serialized model (and thus will be missing at deserialization time).\n",
      "  '. They will not be included '\n"
     ]
    }
   ],
   "source": [
    "print('save model')\n",
    "# plot_model(model, to_file=path+'/model.png')\n",
    "if not os.path.isdir(path):\n",
    "    os.makedirs(path)\n",
    "model.save_weights(path+str('baseline_model.h5')) #save weights\n",
    "model_json = model.to_json()\n",
    "with open(path+str('baseline_model.json'),'w') as json_file:\n",
    "    json_file.write(model_json)"
   ]
  },
  {
   "cell_type": "code",
   "execution_count": null,
   "metadata": {},
   "outputs": [],
   "source": []
  }
 ],
 "metadata": {
  "kernelspec": {
   "display_name": "Python 3",
   "language": "python",
   "name": "python3"
  },
  "language_info": {
   "codemirror_mode": {
    "name": "ipython",
    "version": 3
   },
   "file_extension": ".py",
   "mimetype": "text/x-python",
   "name": "python",
   "nbconvert_exporter": "python",
   "pygments_lexer": "ipython3",
   "version": "3.5.2"
  }
 },
 "nbformat": 4,
 "nbformat_minor": 2
}
