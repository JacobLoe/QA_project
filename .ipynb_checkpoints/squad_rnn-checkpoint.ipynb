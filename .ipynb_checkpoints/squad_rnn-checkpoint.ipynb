{
 "cells": [
  {
   "cell_type": "code",
   "execution_count": 1,
   "metadata": {},
   "outputs": [
    {
     "name": "stderr",
     "output_type": "stream",
     "text": [
      "Using TensorFlow backend.\n"
     ]
    }
   ],
   "source": [
    "# on server: 'screen' ,then start script\n",
    "# use 'strg+a d' to return to terminal\n",
    "# use 'screen -r' to return to screen\n",
    "\n",
    "import numpy as np\n",
    "import json\n",
    "import os\n",
    "\n",
    "from keras.utils.data_utils import get_file\n",
    "from keras.layers.embeddings import Embedding\n",
    "from keras import layers\n",
    "from keras.layers import recurrent\n",
    "from keras.models import Model\n",
    "from keras.preprocessing.sequence import pad_sequences\n",
    "from keras.preprocessing.text import Tokenizer\n",
    "from keras.preprocessing.text import text_to_word_sequence\n",
    "from keras.layers import Input,Dense,LSTM,GRU\n",
    "from keras.layers import Bidirectional\n",
    "from keras.utils import plot_model\n",
    "# os.environ['CUDA_VISIBLE_DEVICES']='0'"
   ]
  },
  {
   "cell_type": "code",
   "execution_count": 2,
   "metadata": {},
   "outputs": [],
   "source": [
    "import rnn_functions as rf"
   ]
  },
  {
   "cell_type": "code",
   "execution_count": 3,
   "metadata": {},
   "outputs": [],
   "source": [
    "path='models/baseline_biderec'\n",
    "# rnn parameters\n",
    "hidden_size = 100 #100 is the standard\n",
    "batch_size = 512 #for the training on the GPU this to be has to very large, otherwise the GPU is used very inefficiently\n",
    "epochs = 100\n",
    "\n",
    "#glove embedding parameters\n",
    "glove_dir = '../glove/glove.6B.100d.txt'\n",
    "embedding_dim = 100\n",
    "eval_split = 0.2 "
   ]
  },
  {
   "cell_type": "code",
   "execution_count": 57,
   "metadata": {},
   "outputs": [],
   "source": [
    "#open SQuAD-dataset and extract the relevant data from the json-file\n",
    "#to a easier readable/accessible dictionary\n",
    "with open('SQuAD/train-v2.0.json') as file:\n",
    "    train=json.load(file)\n",
    "train_context=[]\n",
    "train_question=[]\n",
    "train_answer=[]\n",
    "train_new={'context':train_context,'question':train_question,'answer':train_answer}\n",
    "for j,data in enumerate(train['data']):\n",
    "    for i,paragraph in enumerate(data['paragraphs']):\n",
    "        context=paragraph['context']\n",
    "        for qas in paragraph['qas']:\n",
    "            #create a dataset with only the answerable questions\n",
    "            #add a bos and eos token to the target\n",
    "            if (qas['is_impossible']==False):\n",
    "            #FIXME add 'bos' and 'eos' to data\n",
    "                train_new['context'].append(context)\n",
    "                train_new['question'].append(qas['question'])\n",
    "                train_new['answer'].append('\\t'+qas['answers'][0]['text']+'\\n')\n",
    "# print(train_new['context'][0])\n",
    "# print(train_new['question'][0])\n",
    "# print(train_new['answer'][0])"
   ]
  },
  {
   "cell_type": "code",
   "execution_count": 40,
   "metadata": {},
   "outputs": [
    {
     "name": "stdout",
     "output_type": "stream",
     "text": [
      "len train_all:  260463\n"
     ]
    }
   ],
   "source": [
    "#concatenate the data in one vector for preprocessing\n",
    "train_all=[]\n",
    "for line in train_new['context']:\n",
    "    train_all.append(line)\n",
    "for line in train_new['question']:\n",
    "    train_all.append(line)\n",
    "for line in train_new['answer']:\n",
    "    train_all.append(line)\n",
    "print('len train_all: ',len(train_all))"
   ]
  },
  {
   "cell_type": "code",
   "execution_count": 41,
   "metadata": {},
   "outputs": [
    {
     "name": "stdout",
     "output_type": "stream",
     "text": [
      "vocab shape:  91926\n"
     ]
    }
   ],
   "source": [
    "vocab = set()\n",
    "for text in train_all:\n",
    "    vocab |= set(text_to_word_sequence(text))\n",
    "vocab = sorted(vocab)\n",
    "vocab_size = len(vocab) + 1\n",
    "print('vocab shape: ',vocab_size)"
   ]
  },
  {
   "cell_type": "code",
   "execution_count": 85,
   "metadata": {},
   "outputs": [
    {
     "name": "stdout",
     "output_type": "stream",
     "text": [
      "Found 91925 unique tokens.\n",
      "Shape of context tensor: 86821\n",
      "Shape of question tensor: 86821\n",
      "Shape of answer tensor: 86821\n"
     ]
    }
   ],
   "source": [
    "#prepare the data to use as input of the rnn\n",
    "tokenizer = Tokenizer(num_words=vocab_size)\n",
    "tokenizer.fit_on_texts(train_all)\n",
    "context_sequences = tokenizer.texts_to_sequences(train_new['context'])\n",
    "question_sequences = tokenizer.texts_to_sequences(train_new['question'])\n",
    "answer_sequences = tokenizer.texts_to_sequences(train_new['answer'])\n",
    "\n",
    "max_len_context=max(map(len,context_sequences))\n",
    "max_len_question=max(map(len,question_sequences))\n",
    "max_len_answer=max(map(len,answer_sequences))\n",
    "\n",
    "word_index = tokenizer.word_index\n",
    "print('Found %s unique tokens.' % len(word_index))\n",
    "\n",
    "context = pad_sequences(context_sequences, maxlen=max_len_context)\n",
    "question = pad_sequences(question_sequences, maxlen=max_len_question)\n",
    "answer = pad_sequences(answer_sequences, maxlen=max_len_answer)\n",
    "\n",
    "# context=context_sequences\n",
    "# question=question_sequences\n",
    "# answer=answer_sequences\n",
    "\n",
    "context_len=len(context)\n",
    "question_len=len(question)\n",
    "answer_len=len(answer)\n",
    "\n",
    "print('Shape of context tensor:', context_len)\n",
    "print('Shape of question tensor:', question_len)\n",
    "print('Shape of answer tensor:', answer_len)"
   ]
  },
  {
   "cell_type": "code",
   "execution_count": 8,
   "metadata": {},
   "outputs": [],
   "source": [
    "# # split the data into a training set and an evaluation set\n",
    "# indices = np.arange(context.shape[0])\n",
    "# np.random.shuffle(indices)\n",
    "# context = context[indices]\n",
    "# question = question[indices]\n",
    "# answer = answer[indices]\n",
    "# num_eval_samples = int(eval_split * context.shape[0])\n",
    "\n",
    "# x_train_context = context[:-num_eval_samples]\n",
    "# x_train_question = question[:-num_eval_samples]\n",
    "# y_train_answer = answer[:-num_eval_samples]\n",
    "\n",
    "# x_eval_context = context[-num_eval_samples:]\n",
    "# x_eval_question = question[-num_eval_samples:]\n",
    "# y_eval_answer = answer[-num_eval_samples:]"
   ]
  },
  {
   "cell_type": "code",
   "execution_count": 9,
   "metadata": {},
   "outputs": [
    {
     "name": "stdout",
     "output_type": "stream",
     "text": [
      "Found 400000 word vectors.\n"
     ]
    }
   ],
   "source": [
    "#FIX_ME: add glove download\n",
    "# https://nlp.stanford.edu/projects/glove/\n",
    "#get glove embeddings\n",
    "embeddings_index = {}\n",
    "f = open(glove_dir)\n",
    "for line in f:\n",
    "    values = line.split()\n",
    "    word = values[0]\n",
    "    coefs = np.asarray(values[1:], dtype='float32')\n",
    "    embeddings_index[word] = coefs\n",
    "f.close()\n",
    "\n",
    "print('Found %s word vectors.' % len(embeddings_index))"
   ]
  },
  {
   "cell_type": "code",
   "execution_count": 10,
   "metadata": {},
   "outputs": [],
   "source": [
    "#extract the glove-embedding to a matrix\n",
    "embedding_matrix = np.zeros((len(word_index) + 1, embedding_dim))\n",
    "for word, i in word_index.items():\n",
    "    embedding_vector = embeddings_index.get(word)\n",
    "    if embedding_vector is not None:\n",
    "        # words not found in embedding index will be all-zeros.\n",
    "        embedding_matrix[i] = embedding_vector"
   ]
  },
  {
   "cell_type": "code",
   "execution_count": 60,
   "metadata": {},
   "outputs": [
    {
     "data": {
      "text/plain": [
       "(91926, 100)"
      ]
     },
     "execution_count": 60,
     "metadata": {},
     "output_type": "execute_result"
    }
   ],
   "source": [
    "np.shape(embedding_matrix)"
   ]
  },
  {
   "cell_type": "code",
   "execution_count": 82,
   "metadata": {},
   "outputs": [
    {
     "name": "stdout",
     "output_type": "stream",
     "text": [
      "__________________________________________________________________________________________________\n",
      "Layer (type)                    Output Shape         Param #     Connected to                     \n",
      "==================================================================================================\n",
      "input_52 (InputLayer)           (None, None)         0                                            \n",
      "__________________________________________________________________________________________________\n",
      "input_53 (InputLayer)           (None, None)         0                                            \n",
      "__________________________________________________________________________________________________\n",
      "embedding_52 (Embedding)        (None, None, 100)    9192600     input_52[0][0]                   \n",
      "__________________________________________________________________________________________________\n",
      "embedding_53 (Embedding)        (None, None, 100)    9192600     input_53[0][0]                   \n",
      "__________________________________________________________________________________________________\n",
      "input_54 (InputLayer)           (None, None)         0                                            \n",
      "__________________________________________________________________________________________________\n",
      "lstm_50 (LSTM)                  [(None, 100), (None, 80400       embedding_52[0][0]               \n",
      "__________________________________________________________________________________________________\n",
      "lstm_51 (LSTM)                  [(None, 100), (None, 80400       embedding_53[0][0]               \n",
      "__________________________________________________________________________________________________\n",
      "embedding_54 (Embedding)        (None, None, 100)    9192600     input_54[0][0]                   \n",
      "__________________________________________________________________________________________________\n",
      "concatenate_10 (Concatenate)    (None, 200)          0           lstm_50[0][1]                    \n",
      "                                                                 lstm_51[0][1]                    \n",
      "__________________________________________________________________________________________________\n",
      "concatenate_11 (Concatenate)    (None, 200)          0           lstm_50[0][2]                    \n",
      "                                                                 lstm_51[0][2]                    \n",
      "__________________________________________________________________________________________________\n",
      "lstm_52 (LSTM)                  (None, None, 200)    240800      embedding_54[0][0]               \n",
      "                                                                 concatenate_10[0][0]             \n",
      "                                                                 concatenate_11[0][0]             \n",
      "__________________________________________________________________________________________________\n",
      "dense_15 (Dense)                (None, None, 91926)  18477126    lstm_52[0][0]                    \n",
      "==================================================================================================\n",
      "Total params: 46,456,526\n",
      "Trainable params: 18,878,726\n",
      "Non-trainable params: 27,577,800\n",
      "__________________________________________________________________________________________________\n"
     ]
    }
   ],
   "source": [
    "# Define an input sequence and process it.\n",
    "context_encoder_inputs = Input(shape=(None,))\n",
    "context_x = Embedding(vocab_size, embedding_dim,weights=[embedding_matrix],\n",
    "                      trainable=False)(context_encoder_inputs)\n",
    "context_x, context_state_h, context_state_c = LSTM(embedding_dim,\n",
    "                           return_state=True)(context_x)\n",
    "context_encoder_states = [context_state_h, context_state_c]\n",
    "\n",
    "question_encoder_inputs = Input(shape=(None,))\n",
    "question_x = Embedding(vocab_size, embedding_dim,weights=[embedding_matrix],\n",
    "                       trainable=False)(question_encoder_inputs)\n",
    "question_x, question_state_h, question_state_c = LSTM(embedding_dim,\n",
    "                           return_state=True)(question_x)\n",
    "question_encoder_states = [question_state_h, question_state_c]\n",
    "\n",
    "state_h=layers.Concatenate()([context_state_h,question_state_h])\n",
    "state_c=layers.Concatenate()([context_state_c,question_state_c])\n",
    "concat_states=[state_h,state_c]\n",
    "\n",
    "# Set up the decoder, using `encoder_states` as initial state.\n",
    "decoder_inputs = Input(shape=(None,))\n",
    "x = Embedding(vocab_size, embedding_dim,weights=[embedding_matrix],trainable=False)(decoder_inputs)\n",
    "x = LSTM(embedding_dim*2, return_sequences=True)(x, initial_state=concat_states)\n",
    "decoder_outputs = Dense(vocab_size, activation='softmax')(x)\n",
    "\n",
    "# Define the model that will turn\n",
    "# `encoder_input_data` & `decoder_input_data` into `decoder_target_data`\n",
    "model = Model([context_encoder_inputs,question_encoder_inputs, decoder_inputs], decoder_outputs)\n",
    "\n",
    "# Compile & run training\n",
    "model.compile(optimizer='adam', loss='categorical_crossentropy')\n",
    "# Note that `decoder_target_data` needs to be one-hot encoded,\n",
    "# rather than sequences of integers like `decoder_input_data`!\n",
    "\n",
    "# model.fit([encoder_input_data, decoder_input_data], decoder_target_data,\n",
    "#           batch_size=batch_size,\n",
    "#           epochs=epochs,\n",
    "#           validation_split=0.2)\n",
    "model.summary()"
   ]
  },
  {
   "cell_type": "code",
   "execution_count": 83,
   "metadata": {},
   "outputs": [
    {
     "data": {
      "image/svg+xml": [
       "<svg height=\"410pt\" viewBox=\"0.00 0.00 562.50 410.00\" width=\"563pt\" xmlns=\"http://www.w3.org/2000/svg\" xmlns:xlink=\"http://www.w3.org/1999/xlink\">\n",
       "<g class=\"graph\" id=\"graph0\" transform=\"scale(1 1) rotate(0) translate(4 406)\">\n",
       "<title>G</title>\n",
       "<polygon fill=\"#ffffff\" points=\"-4,4 -4,-406 558.5,-406 558.5,4 -4,4\" stroke=\"transparent\"/>\n",
       "<!-- 140323694673536 -->\n",
       "<g class=\"node\" id=\"node1\">\n",
       "<title>140323694673536</title>\n",
       "<polygon fill=\"none\" points=\"399,-365.5 399,-401.5 531,-401.5 531,-365.5 399,-365.5\" stroke=\"#000000\"/>\n",
       "<text fill=\"#000000\" font-family=\"Times,serif\" font-size=\"14.00\" text-anchor=\"middle\" x=\"465\" y=\"-379.8\">input_52: InputLayer</text>\n",
       "</g>\n",
       "<!-- 140323694673480 -->\n",
       "<g class=\"node\" id=\"node3\">\n",
       "<title>140323694673480</title>\n",
       "<polygon fill=\"none\" points=\"381,-292.5 381,-328.5 549,-328.5 549,-292.5 381,-292.5\" stroke=\"#000000\"/>\n",
       "<text fill=\"#000000\" font-family=\"Times,serif\" font-size=\"14.00\" text-anchor=\"middle\" x=\"465\" y=\"-306.8\">embedding_52: Embedding</text>\n",
       "</g>\n",
       "<!-- 140323694673536&#45;&gt;140323694673480 -->\n",
       "<g class=\"edge\" id=\"edge1\">\n",
       "<title>140323694673536-&gt;140323694673480</title>\n",
       "<path d=\"M465,-365.4551C465,-357.3828 465,-347.6764 465,-338.6817\" fill=\"none\" stroke=\"#000000\"/>\n",
       "<polygon fill=\"#000000\" points=\"468.5001,-338.5903 465,-328.5904 461.5001,-338.5904 468.5001,-338.5903\" stroke=\"#000000\"/>\n",
       "</g>\n",
       "<!-- 140323695010312 -->\n",
       "<g class=\"node\" id=\"node2\">\n",
       "<title>140323695010312</title>\n",
       "<polygon fill=\"none\" points=\"210,-365.5 210,-401.5 342,-401.5 342,-365.5 210,-365.5\" stroke=\"#000000\"/>\n",
       "<text fill=\"#000000\" font-family=\"Times,serif\" font-size=\"14.00\" text-anchor=\"middle\" x=\"276\" y=\"-379.8\">input_53: InputLayer</text>\n",
       "</g>\n",
       "<!-- 140323695029104 -->\n",
       "<g class=\"node\" id=\"node4\">\n",
       "<title>140323695029104</title>\n",
       "<polygon fill=\"none\" points=\"192,-292.5 192,-328.5 360,-328.5 360,-292.5 192,-292.5\" stroke=\"#000000\"/>\n",
       "<text fill=\"#000000\" font-family=\"Times,serif\" font-size=\"14.00\" text-anchor=\"middle\" x=\"276\" y=\"-306.8\">embedding_53: Embedding</text>\n",
       "</g>\n",
       "<!-- 140323695010312&#45;&gt;140323695029104 -->\n",
       "<g class=\"edge\" id=\"edge2\">\n",
       "<title>140323695010312-&gt;140323695029104</title>\n",
       "<path d=\"M276,-365.4551C276,-357.3828 276,-347.6764 276,-338.6817\" fill=\"none\" stroke=\"#000000\"/>\n",
       "<polygon fill=\"#000000\" points=\"279.5001,-338.5903 276,-328.5904 272.5001,-338.5904 279.5001,-338.5903\" stroke=\"#000000\"/>\n",
       "</g>\n",
       "<!-- 140323694673592 -->\n",
       "<g class=\"node\" id=\"node6\">\n",
       "<title>140323694673592</title>\n",
       "<polygon fill=\"none\" points=\"412.5,-219.5 412.5,-255.5 517.5,-255.5 517.5,-219.5 412.5,-219.5\" stroke=\"#000000\"/>\n",
       "<text fill=\"#000000\" font-family=\"Times,serif\" font-size=\"14.00\" text-anchor=\"middle\" x=\"465\" y=\"-233.8\">lstm_50: LSTM</text>\n",
       "</g>\n",
       "<!-- 140323694673480&#45;&gt;140323694673592 -->\n",
       "<g class=\"edge\" id=\"edge3\">\n",
       "<title>140323694673480-&gt;140323694673592</title>\n",
       "<path d=\"M465,-292.4551C465,-284.3828 465,-274.6764 465,-265.6817\" fill=\"none\" stroke=\"#000000\"/>\n",
       "<polygon fill=\"#000000\" points=\"468.5001,-265.5903 465,-255.5904 461.5001,-265.5904 468.5001,-265.5903\" stroke=\"#000000\"/>\n",
       "</g>\n",
       "<!-- 140323694687960 -->\n",
       "<g class=\"node\" id=\"node7\">\n",
       "<title>140323694687960</title>\n",
       "<polygon fill=\"none\" points=\"223.5,-219.5 223.5,-255.5 328.5,-255.5 328.5,-219.5 223.5,-219.5\" stroke=\"#000000\"/>\n",
       "<text fill=\"#000000\" font-family=\"Times,serif\" font-size=\"14.00\" text-anchor=\"middle\" x=\"276\" y=\"-233.8\">lstm_51: LSTM</text>\n",
       "</g>\n",
       "<!-- 140323695029104&#45;&gt;140323694687960 -->\n",
       "<g class=\"edge\" id=\"edge4\">\n",
       "<title>140323695029104-&gt;140323694687960</title>\n",
       "<path d=\"M276,-292.4551C276,-284.3828 276,-274.6764 276,-265.6817\" fill=\"none\" stroke=\"#000000\"/>\n",
       "<polygon fill=\"#000000\" points=\"279.5001,-265.5903 276,-255.5904 272.5001,-265.5904 279.5001,-265.5903\" stroke=\"#000000\"/>\n",
       "</g>\n",
       "<!-- 140323695053568 -->\n",
       "<g class=\"node\" id=\"node5\">\n",
       "<title>140323695053568</title>\n",
       "<polygon fill=\"none\" points=\"18,-219.5 18,-255.5 150,-255.5 150,-219.5 18,-219.5\" stroke=\"#000000\"/>\n",
       "<text fill=\"#000000\" font-family=\"Times,serif\" font-size=\"14.00\" text-anchor=\"middle\" x=\"84\" y=\"-233.8\">input_54: InputLayer</text>\n",
       "</g>\n",
       "<!-- 140323683692784 -->\n",
       "<g class=\"node\" id=\"node8\">\n",
       "<title>140323683692784</title>\n",
       "<polygon fill=\"none\" points=\"0,-146.5 0,-182.5 168,-182.5 168,-146.5 0,-146.5\" stroke=\"#000000\"/>\n",
       "<text fill=\"#000000\" font-family=\"Times,serif\" font-size=\"14.00\" text-anchor=\"middle\" x=\"84\" y=\"-160.8\">embedding_54: Embedding</text>\n",
       "</g>\n",
       "<!-- 140323695053568&#45;&gt;140323683692784 -->\n",
       "<g class=\"edge\" id=\"edge5\">\n",
       "<title>140323695053568-&gt;140323683692784</title>\n",
       "<path d=\"M84,-219.4551C84,-211.3828 84,-201.6764 84,-192.6817\" fill=\"none\" stroke=\"#000000\"/>\n",
       "<polygon fill=\"#000000\" points=\"87.5001,-192.5903 84,-182.5904 80.5001,-192.5904 87.5001,-192.5903\" stroke=\"#000000\"/>\n",
       "</g>\n",
       "<!-- 140323695053624 -->\n",
       "<g class=\"node\" id=\"node9\">\n",
       "<title>140323695053624</title>\n",
       "<polygon fill=\"none\" points=\"379.5,-146.5 379.5,-182.5 554.5,-182.5 554.5,-146.5 379.5,-146.5\" stroke=\"#000000\"/>\n",
       "<text fill=\"#000000\" font-family=\"Times,serif\" font-size=\"14.00\" text-anchor=\"middle\" x=\"467\" y=\"-160.8\">concatenate_10: Concatenate</text>\n",
       "</g>\n",
       "<!-- 140323694673592&#45;&gt;140323695053624 -->\n",
       "<g class=\"edge\" id=\"edge6\">\n",
       "<title>140323694673592-&gt;140323695053624</title>\n",
       "<path d=\"M465.4944,-219.4551C465.7155,-211.3828 465.9815,-201.6764 466.2279,-192.6817\" fill=\"none\" stroke=\"#000000\"/>\n",
       "<polygon fill=\"#000000\" points=\"469.7291,-192.6825 466.5044,-182.5904 462.7317,-192.4907 469.7291,-192.6825\" stroke=\"#000000\"/>\n",
       "</g>\n",
       "<!-- 140323694673648 -->\n",
       "<g class=\"node\" id=\"node10\">\n",
       "<title>140323694673648</title>\n",
       "<polygon fill=\"none\" points=\"186.5,-146.5 186.5,-182.5 361.5,-182.5 361.5,-146.5 186.5,-146.5\" stroke=\"#000000\"/>\n",
       "<text fill=\"#000000\" font-family=\"Times,serif\" font-size=\"14.00\" text-anchor=\"middle\" x=\"274\" y=\"-160.8\">concatenate_11: Concatenate</text>\n",
       "</g>\n",
       "<!-- 140323694673592&#45;&gt;140323694673648 -->\n",
       "<g class=\"edge\" id=\"edge8\">\n",
       "<title>140323694673592-&gt;140323694673648</title>\n",
       "<path d=\"M417.7865,-219.4551C391.5007,-209.4087 358.5918,-196.8309 330.893,-186.2445\" fill=\"none\" stroke=\"#000000\"/>\n",
       "<polygon fill=\"#000000\" points=\"331.9229,-182.8912 321.3323,-182.5904 329.4238,-189.4299 331.9229,-182.8912\" stroke=\"#000000\"/>\n",
       "</g>\n",
       "<!-- 140323694687960&#45;&gt;140323695053624 -->\n",
       "<g class=\"edge\" id=\"edge7\">\n",
       "<title>140323694687960-&gt;140323695053624</title>\n",
       "<path d=\"M323.2135,-219.4551C349.4993,-209.4087 382.4082,-196.8309 410.107,-186.2445\" fill=\"none\" stroke=\"#000000\"/>\n",
       "<polygon fill=\"#000000\" points=\"411.5762,-189.4299 419.6677,-182.5904 409.0771,-182.8912 411.5762,-189.4299\" stroke=\"#000000\"/>\n",
       "</g>\n",
       "<!-- 140323694687960&#45;&gt;140323694673648 -->\n",
       "<g class=\"edge\" id=\"edge9\">\n",
       "<title>140323694687960-&gt;140323694673648</title>\n",
       "<path d=\"M275.5056,-219.4551C275.2845,-211.3828 275.0185,-201.6764 274.7721,-192.6817\" fill=\"none\" stroke=\"#000000\"/>\n",
       "<polygon fill=\"#000000\" points=\"278.2683,-192.4907 274.4956,-182.5904 271.2709,-192.6825 278.2683,-192.4907\" stroke=\"#000000\"/>\n",
       "</g>\n",
       "<!-- 140323695053960 -->\n",
       "<g class=\"node\" id=\"node11\">\n",
       "<title>140323695053960</title>\n",
       "<polygon fill=\"none\" points=\"221.5,-73.5 221.5,-109.5 326.5,-109.5 326.5,-73.5 221.5,-73.5\" stroke=\"#000000\"/>\n",
       "<text fill=\"#000000\" font-family=\"Times,serif\" font-size=\"14.00\" text-anchor=\"middle\" x=\"274\" y=\"-87.8\">lstm_52: LSTM</text>\n",
       "</g>\n",
       "<!-- 140323683692784&#45;&gt;140323695053960 -->\n",
       "<g class=\"edge\" id=\"edge10\">\n",
       "<title>140323683692784-&gt;140323695053960</title>\n",
       "<path d=\"M130.9663,-146.4551C157.1145,-136.4087 189.8511,-123.8309 217.4048,-113.2445\" fill=\"none\" stroke=\"#000000\"/>\n",
       "<polygon fill=\"#000000\" points=\"218.8361,-116.4441 226.9155,-109.5904 216.3255,-109.9098 218.8361,-116.4441\" stroke=\"#000000\"/>\n",
       "</g>\n",
       "<!-- 140323695053624&#45;&gt;140323695053960 -->\n",
       "<g class=\"edge\" id=\"edge11\">\n",
       "<title>140323695053624-&gt;140323695053960</title>\n",
       "<path d=\"M419.2921,-146.4551C392.7311,-136.4087 359.4776,-123.8309 331.4888,-113.2445\" fill=\"none\" stroke=\"#000000\"/>\n",
       "<polygon fill=\"#000000\" points=\"332.4195,-109.8545 321.8279,-109.5904 329.943,-116.4019 332.4195,-109.8545\" stroke=\"#000000\"/>\n",
       "</g>\n",
       "<!-- 140323694673648&#45;&gt;140323695053960 -->\n",
       "<g class=\"edge\" id=\"edge12\">\n",
       "<title>140323694673648-&gt;140323695053960</title>\n",
       "<path d=\"M274,-146.4551C274,-138.3828 274,-128.6764 274,-119.6817\" fill=\"none\" stroke=\"#000000\"/>\n",
       "<polygon fill=\"#000000\" points=\"277.5001,-119.5903 274,-109.5904 270.5001,-119.5904 277.5001,-119.5903\" stroke=\"#000000\"/>\n",
       "</g>\n",
       "<!-- 140323695053792 -->\n",
       "<g class=\"node\" id=\"node12\">\n",
       "<title>140323695053792</title>\n",
       "<polygon fill=\"none\" points=\"219.5,-.5 219.5,-36.5 328.5,-36.5 328.5,-.5 219.5,-.5\" stroke=\"#000000\"/>\n",
       "<text fill=\"#000000\" font-family=\"Times,serif\" font-size=\"14.00\" text-anchor=\"middle\" x=\"274\" y=\"-14.8\">dense_15: Dense</text>\n",
       "</g>\n",
       "<!-- 140323695053960&#45;&gt;140323695053792 -->\n",
       "<g class=\"edge\" id=\"edge13\">\n",
       "<title>140323695053960-&gt;140323695053792</title>\n",
       "<path d=\"M274,-73.4551C274,-65.3828 274,-55.6764 274,-46.6817\" fill=\"none\" stroke=\"#000000\"/>\n",
       "<polygon fill=\"#000000\" points=\"277.5001,-46.5903 274,-36.5904 270.5001,-46.5904 277.5001,-46.5903\" stroke=\"#000000\"/>\n",
       "</g>\n",
       "</g>\n",
       "</svg>"
      ],
      "text/plain": [
       "<IPython.core.display.SVG object>"
      ]
     },
     "execution_count": 83,
     "metadata": {},
     "output_type": "execute_result"
    }
   ],
   "source": [
    "from IPython.display import SVG\n",
    "from keras.utils.vis_utils import model_to_dot\n",
    "\n",
    "SVG(model_to_dot(model).create(prog='dot', format='svg'))"
   ]
  },
  {
   "cell_type": "code",
   "execution_count": null,
   "metadata": {},
   "outputs": [],
   "source": [
    "# print('Training')\n",
    "# #flatten y_train\n",
    "# model.fit([x_train_context, x_train_question], y_train_answer,\n",
    "#           batch_size=batch_size,\n",
    "#           epochs=epochs,\n",
    "#           validation_split=0.05)\n",
    "\n",
    "# print('Evaluation')\n",
    "# loss, acc = model.evaluate([x_eval_context, x_eval_question], y_eval_answer,\n",
    "#                            batch_size=batch_size)\n",
    "# print('Test loss / test accuracy = {:.4f} / {:.4f}'.format(loss, acc))"
   ]
  },
  {
   "cell_type": "code",
   "execution_count": null,
   "metadata": {},
   "outputs": [],
   "source": [
    "# print('save model')\n",
    "# # plot_model(model, to_file=path+'/model.png')\n",
    "# model.save_weights('models/baseline/baseline_model.h5') #save weights\n",
    "# model_json = model.to_json()\n",
    "# with open(\"models/baseline/baseline_model.json\",'w') as json_file:\n",
    "#     json_file.write(model_json)"
   ]
  },
  {
   "cell_type": "code",
   "execution_count": 44,
   "metadata": {},
   "outputs": [
    {
     "name": "stdout",
     "output_type": "stream",
     "text": [
      "Number of samples: 10000\n",
      "Number of unique input tokens: 69\n",
      "Number of unique output tokens: 93\n",
      "Max sequence length for inputs: 16\n",
      "Max sequence length for outputs: 59\n"
     ]
    }
   ],
   "source": [
    "from __future__ import print_function\n",
    "\n",
    "from keras.models import Model\n",
    "from keras.layers import Input, LSTM, Dense\n",
    "import numpy as np\n",
    "\n",
    "batch_size = 64  # Batch size for training.\n",
    "epochs = 100  # Number of epochs to train for.\n",
    "latent_dim = 256  # Latent dimensionality of the encoding space.\n",
    "num_samples = 10000  # Number of samples to train on.\n",
    "# Path to the data txt file on disk.\n",
    "data_path = 'fra-eng/fra.txt'\n",
    "\n",
    "# Vectorize the data.\n",
    "input_texts = []\n",
    "target_texts = []\n",
    "input_characters = set()\n",
    "target_characters = set()\n",
    "with open(data_path, 'r', encoding='utf-8') as f:\n",
    "    lines = f.read().split('\\n')\n",
    "for line in lines[: min(num_samples, len(lines) - 1)]:\n",
    "    input_text, target_text = line.split('\\t')\n",
    "    # We use \"tab\" as the \"start sequence\" character\n",
    "    # for the targets, and \"\\n\" as \"end sequence\" character.\n",
    "    target_text = '\\t' + target_text + '\\n'\n",
    "    input_texts.append(input_text)\n",
    "    target_texts.append(target_text)\n",
    "    for char in input_text:\n",
    "        if char not in input_characters:\n",
    "            input_characters.add(char)\n",
    "    for char in target_text:\n",
    "        if char not in target_characters:\n",
    "            target_characters.add(char)\n",
    "\n",
    "input_characters = sorted(list(input_characters))\n",
    "target_characters = sorted(list(target_characters))\n",
    "num_encoder_tokens = len(input_characters)\n",
    "num_decoder_tokens = len(target_characters)\n",
    "max_encoder_seq_length = max([len(txt) for txt in input_texts])\n",
    "max_decoder_seq_length = max([len(txt) for txt in target_texts])\n",
    "\n",
    "print('Number of samples:', len(input_texts))\n",
    "print('Number of unique input tokens:', num_encoder_tokens)\n",
    "print('Number of unique output tokens:', num_decoder_tokens)\n",
    "print('Max sequence length for inputs:', max_encoder_seq_length)\n",
    "print('Max sequence length for outputs:', max_decoder_seq_length)"
   ]
  },
  {
   "cell_type": "code",
   "execution_count": 45,
   "metadata": {},
   "outputs": [],
   "source": [
    "# print(np.shape(input_characters))"
   ]
  },
  {
   "cell_type": "code",
   "execution_count": 46,
   "metadata": {},
   "outputs": [],
   "source": [
    "# input_characters[2]"
   ]
  },
  {
   "cell_type": "code",
   "execution_count": 56,
   "metadata": {},
   "outputs": [
    {
     "name": "stdout",
     "output_type": "stream",
     "text": [
      "(10000, 16, 69)\n",
      "(10000, 59, 93)\n",
      "(10000, 59, 93)\n"
     ]
    }
   ],
   "source": [
    "input_token_index = dict(\n",
    "    [(char, i) for i, char in enumerate(input_characters)])\n",
    "target_token_index = dict(\n",
    "    [(char, i) for i, char in enumerate(target_characters)])\n",
    "\n",
    "encoder_input_data = np.zeros(\n",
    "    (len(input_texts), max_encoder_seq_length, num_encoder_tokens),\n",
    "    dtype='float32')\n",
    "decoder_input_data = np.zeros(\n",
    "    (len(input_texts), max_decoder_seq_length, num_decoder_tokens),\n",
    "    dtype='float32')\n",
    "decoder_target_data = np.zeros(\n",
    "    (len(input_texts), max_decoder_seq_length, num_decoder_tokens),\n",
    "    dtype='float32')\n",
    "\n",
    "print(np.shape(encoder_input_data))\n",
    "print(np.shape(decoder_input_data))\n",
    "print(np.shape(decoder_target_data))\n",
    "\n",
    "for i, (input_text, target_text) in enumerate(zip(input_texts, target_texts)):\n",
    "    for t, char in enumerate(input_text):\n",
    "        encoder_input_data[i, t, input_token_index[char]] = 1.\n",
    "    for t, char in enumerate(target_text):\n",
    "        # decoder_target_data is ahead of decoder_input_data by one timestep\n",
    "        decoder_input_data[i, t, target_token_index[char]] = 1.\n",
    "        if t > 0:\n",
    "            # decoder_target_data will be ahead by one timestep\n",
    "            # and will not include the start character.\n",
    "            decoder_target_data[i, t - 1, target_token_index[char]] = 1."
   ]
  },
  {
   "cell_type": "code",
   "execution_count": 54,
   "metadata": {},
   "outputs": [
    {
     "data": {
      "text/plain": [
       "69"
      ]
     },
     "execution_count": 54,
     "metadata": {},
     "output_type": "execute_result"
    }
   ],
   "source": [
    "len(input_token_index)"
   ]
  },
  {
   "cell_type": "code",
   "execution_count": 55,
   "metadata": {},
   "outputs": [
    {
     "data": {
      "text/plain": [
       "93"
      ]
     },
     "execution_count": 55,
     "metadata": {},
     "output_type": "execute_result"
    }
   ],
   "source": [
    "len(target_token_index)"
   ]
  },
  {
   "cell_type": "code",
   "execution_count": null,
   "metadata": {},
   "outputs": [],
   "source": []
  }
 ],
 "metadata": {
  "kernelspec": {
   "display_name": "Python 3",
   "language": "python",
   "name": "python3"
  },
  "language_info": {
   "codemirror_mode": {
    "name": "ipython",
    "version": 3
   },
   "file_extension": ".py",
   "mimetype": "text/x-python",
   "name": "python",
   "nbconvert_exporter": "python",
   "pygments_lexer": "ipython3",
   "version": "3.6.7"
  }
 },
 "nbformat": 4,
 "nbformat_minor": 2
}
