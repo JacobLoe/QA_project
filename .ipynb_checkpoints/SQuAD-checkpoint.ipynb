{
 "cells": [
  {
   "cell_type": "code",
   "execution_count": 1,
   "metadata": {},
   "outputs": [
    {
     "name": "stderr",
     "output_type": "stream",
     "text": [
      "Using TensorFlow backend.\n"
     ]
    }
   ],
   "source": [
    "import json\n",
    "import numpy as np\n",
    "import re\n",
    "from keras.preprocessing.sequence import pad_sequences"
   ]
  },
  {
   "cell_type": "code",
   "execution_count": 2,
   "metadata": {},
   "outputs": [],
   "source": [
    "#add code to download SQuAD"
   ]
  },
  {
   "cell_type": "code",
   "execution_count": 3,
   "metadata": {},
   "outputs": [],
   "source": [
    "with open('SQuAD/train-v2.0.json') as file:\n",
    "    train=json.load(file)\n",
    "# each paragraph is a different topic indicated by the title\n",
    "# each topic contains a number of different short passages related to the topic, the context\n",
    "# for each topic there are ~10 question/answer pairs, and an indicator if a question is impossible"
   ]
  },
  {
   "cell_type": "code",
   "execution_count": 4,
   "metadata": {},
   "outputs": [],
   "source": [
    "def tokenize(sent):\n",
    "    '''Return the tokens of a sentence including punctuation.\n",
    "    >>> tokenize('Bob dropped the apple. Where is the apple?')\n",
    "    ['Bob', 'dropped', 'the', 'apple', '.', 'Where', 'is', 'the', 'apple', '?']\n",
    "    '''\n",
    "    return [x.strip() for x in re.split(r'(\\W+)?', sent) if x.strip()]"
   ]
  },
  {
   "cell_type": "code",
   "execution_count": 5,
   "metadata": {
    "scrolled": true
   },
   "outputs": [
    {
     "name": "stderr",
     "output_type": "stream",
     "text": [
      "/usr/lib/python3.6/re.py:212: FutureWarning: split() requires a non-empty pattern match.\n",
      "  return _compile(pattern, flags).split(string, maxsplit)\n"
     ]
    }
   ],
   "source": [
    "train_context=[]\n",
    "train_question=[]\n",
    "train_answer=[]\n",
    "train_new={'context':train_context,'question':train_question,'answer':train_answer}\n",
    "for j,data in enumerate(train['data']):\n",
    "    for i,paragraph in enumerate(data['paragraphs']):\n",
    "        context=tokenize(paragraph['context'])\n",
    "        for qas in paragraph['qas']:\n",
    "            #create a dataset with only the answerable questions\n",
    "            if (qas['is_impossible']==False):\n",
    "                train_new['context'].append(context)\n",
    "                train_new['question'].append(tokenize(qas['question']))\n",
    "                train_new['answer'].append(tokenize(qas['answers'][0]['text']))"
   ]
  },
  {
   "cell_type": "code",
   "execution_count": 6,
   "metadata": {},
   "outputs": [
    {
     "name": "stdout",
     "output_type": "stream",
     "text": [
      "(96585,)\n"
     ]
    }
   ],
   "source": [
    "vocab = set()\n",
    "for context,question,answer in zip(train_new['context'],train_new['question'],train_new['answer']):\n",
    "#     print(type(context))\n",
    "#     print(type(question))\n",
    "#     print(type(answer))\n",
    "#     vocab |= set(context+question+[str(answer)])\n",
    "    vocab |= set(context+question+answer)\n",
    "vocab = sorted(vocab)\n",
    "vocab_size = len(vocab) + 1\n",
    "print(np.shape(vocab))"
   ]
  },
  {
   "cell_type": "code",
   "execution_count": 7,
   "metadata": {},
   "outputs": [],
   "source": [
    "# word_idx = dict((c, i + 1) for i, c in enumerate(vocab))\n",
    "#needed for sequence padding\n",
    "story_maxlen = max(map(len, (x for x, _, _ in zip(train_new['context'],train_new['question'],train_new['answer']))))\n",
    "query_maxlen = max(map(len, (x for _, x, _ in zip(train_new['context'],train_new['question'],train_new['answer']))))"
   ]
  },
  {
   "cell_type": "code",
   "execution_count": 8,
   "metadata": {},
   "outputs": [
    {
     "name": "stdout",
     "output_type": "stream",
     "text": [
      "844\n",
      "60\n"
     ]
    }
   ],
   "source": [
    "# print(len(word_idx))\n",
    "print(story_maxlen)\n",
    "print(query_maxlen)"
   ]
  },
  {
   "cell_type": "code",
   "execution_count": 9,
   "metadata": {},
   "outputs": [],
   "source": [
    "def vectorize_stories(data, word_idx, context_maxlen, question_maxlen):\n",
    "    xs = []\n",
    "    xqs = []\n",
    "    ys = []\n",
    "    for context, question, answer in data:\n",
    "        x = [word_idx[w] for w in context]\n",
    "        xq = [word_idx[w] for w in question]\n",
    "        # let's not forget that index 0 is reserved\n",
    "        y = 4#np.zeros(len(word_idx) + 1)\n",
    "#         for string in answer:\n",
    "#             y[word_idx[string]] = 1\n",
    "#         print(np.shape(y))\n",
    "#         print(y)\n",
    "#         break\n",
    "        xs.append(x)\n",
    "        xqs.append(xq)\n",
    "        ys.append(y)\n",
    "    return [pad_sequences(xs, maxlen=context_maxlen),\n",
    "            pad_sequences(xqs, maxlen=question_maxlen), np.array(ys)]"
   ]
  },
  {
   "cell_type": "code",
   "execution_count": null,
   "metadata": {},
   "outputs": [],
   "source": [
    "#tfidf\n",
    "import nltk\n",
    "# nltk.download('brown')\n",
    "from nltk.corpus import brown\n",
    "from collections import Counter\n",
    "import matplotlib.pyplot as plt\n",
    "from keras.preprocessing.text import Tokenizer\n",
    "from keras.preprocessing.sequence import pad_sequences"
   ]
  },
  {
   "cell_type": "code",
   "execution_count": null,
   "metadata": {},
   "outputs": [],
   "source": [
    "brown.sents()"
   ]
  },
  {
   "cell_type": "code",
   "execution_count": null,
   "metadata": {},
   "outputs": [],
   "source": [
    "vocab_size = 5000\n",
    "tokenizer = Tokenizer(vocab_size)\n",
    "tokenizer.fit_on_texts(brown.sents())\n",
    "\n",
    "tfidf = tokenizer.texts_to_matrix(brown.sents(), 'tfidf').T\n",
    "tfidf /= np.linalg.norm(tfidf, axis= -1, keepdims= True) + 1e-16"
   ]
  },
  {
   "cell_type": "code",
   "execution_count": null,
   "metadata": {},
   "outputs": [],
   "source": [
    "sim = lambda w1, w2: tfidf[tokenizer.word_index[w1]] @ tfidf[tokenizer.word_index[w2]]\n",
    "test = lambda f, ws: f(*[tfidf[tokenizer.word_index[w]] for w in ws])"
   ]
  },
  {
   "cell_type": "code",
   "execution_count": null,
   "metadata": {},
   "outputs": [],
   "source": [
    "print(len(brown.sents()))\n",
    "print(len(tfidf))"
   ]
  },
  {
   "cell_type": "code",
   "execution_count": null,
   "metadata": {},
   "outputs": [],
   "source": [
    "brown.sents()"
   ]
  },
  {
   "cell_type": "code",
   "execution_count": null,
   "metadata": {},
   "outputs": [],
   "source": [
    "sim()"
   ]
  },
  {
   "cell_type": "code",
   "execution_count": 31,
   "metadata": {},
   "outputs": [],
   "source": [
    "# cbow\n",
    "import keras.backend as K\n",
    "from keras.models import Sequential, Model\n",
    "from keras.layers import Dense, Embedding, Lambda\n",
    "from functools import partial"
   ]
  },
  {
   "cell_type": "code",
   "execution_count": 32,
   "metadata": {},
   "outputs": [],
   "source": [
    "context = 3\n",
    "seed = 0\n",
    "dim = 200"
   ]
  },
  {
   "cell_type": "code",
   "execution_count": 33,
   "metadata": {},
   "outputs": [],
   "source": [
    "ngrams = [ngram\n",
    "          for sent in tokenizer.texts_to_sequences(brown.sents())\n",
    "          for ngram in zip(*[sent[i:] for i in range(context + 1 + context)])]\n",
    "x = np.array([n[:context] + n[-context:] for n in ngrams])\n",
    "y = np.array([n[context] for n in ngrams])\n",
    "del ngrams"
   ]
  },
  {
   "cell_type": "code",
   "execution_count": 35,
   "metadata": {},
   "outputs": [
    {
     "name": "stdout",
     "output_type": "stream",
     "text": [
      "57340\n",
      "689248\n",
      "689248\n"
     ]
    }
   ],
   "source": [
    "print(len(brown.sents()))\n",
    "print(len(x))\n",
    "print(len(y))"
   ]
  },
  {
   "cell_type": "code",
   "execution_count": 36,
   "metadata": {},
   "outputs": [
    {
     "name": "stdout",
     "output_type": "stream",
     "text": [
      "_________________________________________________________________\n",
      "Layer (type)                 Output Shape              Param #   \n",
      "=================================================================\n",
      "embedding_1 (Embedding)      (None, 6, 200)            1000000   \n",
      "_________________________________________________________________\n",
      "lambda_1 (Lambda)            (None, 200)               0         \n",
      "_________________________________________________________________\n",
      "dense_1 (Dense)              (None, 5000)              1005000   \n",
      "=================================================================\n",
      "Total params: 2,005,000\n",
      "Trainable params: 2,005,000\n",
      "Non-trainable params: 0\n",
      "_________________________________________________________________\n",
      "Train on 685152 samples, validate on 4096 samples\n",
      "Epoch 1/6\n",
      "685152/685152 [==============================] - 111s 161us/step - loss: 6.0767 - acc: 0.1088 - val_loss: 5.7226 - val_acc: 0.1243\n",
      "Epoch 2/6\n",
      "685152/685152 [==============================] - 105s 153us/step - loss: 5.6195 - acc: 0.1408 - val_loss: 5.4894 - val_acc: 0.1426\n",
      "Epoch 3/6\n",
      "685152/685152 [==============================] - 104s 152us/step - loss: 5.4152 - acc: 0.1546 - val_loss: 5.3813 - val_acc: 0.1438\n",
      "Epoch 4/6\n",
      "685152/685152 [==============================] - 107s 156us/step - loss: 5.2786 - acc: 0.1610 - val_loss: 5.3184 - val_acc: 0.1477\n",
      "Epoch 5/6\n",
      "685152/685152 [==============================] - 110s 160us/step - loss: 5.1715 - acc: 0.1653 - val_loss: 5.2770 - val_acc: 0.1492\n",
      "Epoch 6/6\n",
      "685152/685152 [==============================] - 103s 150us/step - loss: 5.0805 - acc: 0.1684 - val_loss: 5.2477 - val_acc: 0.1489\n"
     ]
    },
    {
     "ename": "ModuleNotFoundError",
     "evalue": "No module named 'gensim'",
     "output_type": "error",
     "traceback": [
      "\u001b[0;31m---------------------------------------------------------------------------\u001b[0m",
      "\u001b[0;31mModuleNotFoundError\u001b[0m                       Traceback (most recent call last)",
      "\u001b[0;32m<ipython-input-36-4de2d7245074>\u001b[0m in \u001b[0;36m<module>\u001b[0;34m()\u001b[0m\n\u001b[1;32m     29\u001b[0m \u001b[0;34m\u001b[0m\u001b[0m\n\u001b[1;32m     30\u001b[0m \u001b[0;34m\u001b[0m\u001b[0m\n\u001b[0;32m---> 31\u001b[0;31m \u001b[0;32mfrom\u001b[0m \u001b[0mgensim\u001b[0m\u001b[0;34m.\u001b[0m\u001b[0mmodels\u001b[0m\u001b[0;34m.\u001b[0m\u001b[0mkeyedvectors\u001b[0m \u001b[0;32mimport\u001b[0m \u001b[0mKeyedVectors\u001b[0m\u001b[0;34m\u001b[0m\u001b[0;34m\u001b[0m\u001b[0m\n\u001b[0m\u001b[1;32m     32\u001b[0m \u001b[0mw2v\u001b[0m \u001b[0;34m=\u001b[0m \u001b[0mKeyedVectors\u001b[0m\u001b[0;34m.\u001b[0m\u001b[0mload_word2vec_format\u001b[0m\u001b[0;34m(\u001b[0m\u001b[0;34m\"embeddings1.vec\"\u001b[0m\u001b[0;34m)\u001b[0m\u001b[0;34m\u001b[0m\u001b[0;34m\u001b[0m\u001b[0m\n",
      "\u001b[0;31mModuleNotFoundError\u001b[0m: No module named 'gensim'"
     ]
    }
   ],
   "source": [
    "np.random.seed(seed)\n",
    "np.random.shuffle(x)\n",
    "np.random.seed(seed)\n",
    "np.random.shuffle(y)\n",
    "\n",
    "x_valid = x[:4096]\n",
    "y_valid = y[:4096]\n",
    "x_train = x[4096:]\n",
    "y_train = y[4096:]\n",
    "\n",
    "\n",
    "model = Sequential()\n",
    "model.add(Embedding(vocab_size, dim, input_length= 2*context))\n",
    "model.add(Lambda(partial(K.mean, axis= 1)))\n",
    "model.add(Dense(vocab_size, activation= 'softmax'))\n",
    "model.compile(loss= 'sparse_categorical_crossentropy', optimizer= 'adam', metrics= ['accuracy'])\n",
    "model.summary()\n",
    "\n",
    "\n",
    "model.fit(x_train, y_train, validation_data= (x_valid, y_valid), epochs= 6, batch_size= 256, shuffle= False)\n",
    "\n",
    "\n",
    "embed = model.get_weights()[0]\n",
    "\n",
    "with open(\"embeddings1.vec\", 'w') as f:\n",
    "    print(vocab_size-1, dim, file= f)\n",
    "    for i in range(1, vocab_size):\n",
    "        print(tokenizer.index_word[i], \" \".join(map(str, embed[i])), file= f)"
   ]
  },
  {
   "cell_type": "code",
   "execution_count": 11,
   "metadata": {},
   "outputs": [],
   "source": [
    "#fasttext"
   ]
  },
  {
   "cell_type": "code",
   "execution_count": 12,
   "metadata": {},
   "outputs": [],
   "source": [
    "#glove"
   ]
  }
 ],
 "metadata": {
  "kernelspec": {
   "display_name": "Python 3",
   "language": "python",
   "name": "python3"
  },
  "language_info": {
   "codemirror_mode": {
    "name": "ipython",
    "version": 3
   },
   "file_extension": ".py",
   "mimetype": "text/x-python",
   "name": "python",
   "nbconvert_exporter": "python",
   "pygments_lexer": "ipython3",
   "version": "3.6.7"
  }
 },
 "nbformat": 4,
 "nbformat_minor": 2
}
